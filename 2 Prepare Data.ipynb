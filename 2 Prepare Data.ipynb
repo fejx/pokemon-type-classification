{
 "cells": [
  {
   "cell_type": "markdown",
   "metadata": {},
   "source": [
    "# Prepare Data"
   ]
  },
  {
   "cell_type": "code",
   "execution_count": 1,
   "metadata": {},
   "outputs": [],
   "source": [
    "SPRITE_DIRECTORY = 'sprites'"
   ]
  },
  {
   "cell_type": "markdown",
   "metadata": {},
   "source": [
    "## Count dataset"
   ]
  },
  {
   "cell_type": "code",
   "execution_count": 2,
   "metadata": {},
   "outputs": [
    {
     "name": "stdout",
     "output_type": "stream",
     "text": [
      "Number of fire sprites: 64\n",
      "Number of grass sprites: 97\n",
      "Number of water sprites: 131\n"
     ]
    }
   ],
   "source": [
    "import os\n",
    "\n",
    "FIRE_DIRECTORY = os.path.join(SPRITE_DIRECTORY, 'fire')\n",
    "GRASS_DIRECTORY = os.path.join(SPRITE_DIRECTORY, 'grass')\n",
    "WATER_DIRECTORY = os.path.join(SPRITE_DIRECTORY, 'water')\n",
    "def get_file_count_in(directory):\n",
    "    files = os.listdir(directory)\n",
    "    return len(files)\n",
    "FIRE_SPRITE_COUNT = get_file_count_in(FIRE_DIRECTORY)\n",
    "GRASS_SPRITE_COUNT = get_file_count_in(GRASS_DIRECTORY)\n",
    "WATER_SPRITE_COUNT = get_file_count_in(WATER_DIRECTORY)\n",
    "print(f\"Number of fire sprites: {FIRE_SPRITE_COUNT}\")\n",
    "print(f\"Number of grass sprites: {GRASS_SPRITE_COUNT}\")\n",
    "print(f\"Number of water sprites: {WATER_SPRITE_COUNT}\")"
   ]
  },
  {
   "cell_type": "markdown",
   "metadata": {},
   "source": [
    "Since there are more grass and water sprites than fire sprites, I will be using **grass** and **water** for classification. The fire sprites can therefore be removed."
   ]
  },
  {
   "cell_type": "code",
   "execution_count": 3,
   "metadata": {},
   "outputs": [],
   "source": [
    "import shutil\n",
    "shutil.rmtree(FIRE_DIRECTORY)"
   ]
  },
  {
   "cell_type": "markdown",
   "metadata": {},
   "source": [
    "## Splitting dataset"
   ]
  },
  {
   "cell_type": "code",
   "execution_count": 4,
   "metadata": {},
   "outputs": [
    {
     "name": "stdout",
     "output_type": "stream",
     "text": [
      "Moving 10 files to sprites\\test\\grass\n",
      "Moving 87 files to sprites\\training\\grass\n",
      "Moving 13 files to sprites\\test\\water\n",
      "Moving 118 files to sprites\\training\\water\n"
     ]
    }
   ],
   "source": [
    "import os\n",
    "import random\n",
    "\n",
    "def create_directories_if_necessary(file):\n",
    "    if not os.path.exists(os.path.dirname(file)):\n",
    "        os.makedirs(os.path.dirname(file))\n",
    "\n",
    "def move_file(source_directory, target_directory, file_name):\n",
    "    source_path = os.path.join(source_directory, file_name)\n",
    "    target_path = os.path.join(target_directory, file_name)\n",
    "    create_directories_if_necessary(target_path)\n",
    "    os.rename(source_path, target_path)\n",
    "\n",
    "def split_files_into(\n",
    "    source_directory,\n",
    "    first_target_directory,\n",
    "    second_target_directory,\n",
    "    first_target_percentage\n",
    "):\n",
    "    file_names = os.listdir(source_directory)\n",
    "    file_count = len(file_names)\n",
    "    first_target_count = round(file_count * first_target_percentage)\n",
    "    print(f\"Moving {first_target_count} files to {first_target_directory}\")\n",
    "    # Move random files to first directory\n",
    "    for _ in range(first_target_count):\n",
    "        random_file_name = random.choice(file_names)\n",
    "        file_names.remove(random_file_name)\n",
    "        move_file(source_directory, first_target_directory, random_file_name)\n",
    "    # Move remaining files to second directory\n",
    "    second_target_count = file_count - first_target_count\n",
    "    print(f\"Moving {second_target_count} files to {second_target_directory}\")\n",
    "    for file_name in file_names:\n",
    "        move_file(source_directory, second_target_directory, file_name)\n",
    "\n",
    "def split_into_training_and_test(data_directory, test_percentage):\n",
    "    class_names = next(os.walk(data_directory))[1]\n",
    "    for class_name in class_names:\n",
    "        class_path = os.path.join(data_directory, class_name)\n",
    "        test_path = os.path.join(data_directory, \"test\", class_name)\n",
    "        training_path = os.path.join(data_directory, \"training\", class_name)\n",
    "        split_files_into(\n",
    "            class_path,\n",
    "            test_path,\n",
    "            training_path,\n",
    "            test_percentage\n",
    "        )\n",
    "        os.rmdir(class_path)\n",
    "\n",
    "split_into_training_and_test(SPRITE_DIRECTORY, 0.1)"
   ]
  }
 ],
 "metadata": {
  "kernelspec": {
   "display_name": "Python 3",
   "language": "python",
   "name": "python3"
  },
  "language_info": {
   "codemirror_mode": {
    "name": "ipython",
    "version": 3
   },
   "file_extension": ".py",
   "mimetype": "text/x-python",
   "name": "python",
   "nbconvert_exporter": "python",
   "pygments_lexer": "ipython3",
   "version": "3.7.3"
  }
 },
 "nbformat": 4,
 "nbformat_minor": 2
}
