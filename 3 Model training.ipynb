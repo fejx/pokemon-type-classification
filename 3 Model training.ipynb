{
 "cells": [
  {
   "cell_type": "markdown",
   "metadata": {},
   "source": [
    "# Model training"
   ]
  },
  {
   "cell_type": "code",
   "execution_count": 1,
   "metadata": {},
   "outputs": [],
   "source": [
    "import os\n",
    "\n",
    "SPRITE_DIRECTORY = 'sprites'\n",
    "TRAIN_DATA_DIRECTORY = os.path.join(SPRITE_DIRECTORY, 'training')\n",
    "TEST_DATA_DIRECTORY = os.path.join(SPRITE_DIRECTORY, 'test')"
   ]
  },
  {
   "cell_type": "markdown",
   "metadata": {},
   "source": [
    "## Set up data flow"
   ]
  },
  {
   "cell_type": "code",
   "execution_count": 76,
   "metadata": {},
   "outputs": [
    {
     "name": "stdout",
     "output_type": "stream",
     "text": [
      "Flowing from sprites\\training\n",
      "Found 205 images belonging to 2 classes.\n",
      "Flowing from sprites\\test\n",
      "Found 23 images belonging to 2 classes.\n"
     ]
    }
   ],
   "source": [
    "import tensorflow\n",
    "\n",
    "IMAGE_SIZE = 128\n",
    "BATCH_SIZE = 32\n",
    "\n",
    "print(f'Flowing from {TRAIN_DATA_DIRECTORY}')\n",
    "varying_image_generator = tensorflow.keras.preprocessing.image.ImageDataGenerator(\n",
    "    rescale=1./255,\n",
    "    horizontal_flip=True,\n",
    "    rotation_range=15,\n",
    "    zoom_range=0.05\n",
    ")\n",
    "train_image_generator = varying_image_generator.flow_from_directory(\n",
    "    directory=TRAIN_DATA_DIRECTORY,\n",
    "    target_size=(IMAGE_SIZE, IMAGE_SIZE),\n",
    "    shuffle=True,\n",
    "    batch_size=BATCH_SIZE,\n",
    "    color_mode='rgba',\n",
    "    save_to_dir='/generated'\n",
    ")\n",
    "print(f'Flowing from {TEST_DATA_DIRECTORY}')\n",
    "constant_image_generator = tensorflow.keras.preprocessing.image.ImageDataGenerator(\n",
    "    rescale=1./255\n",
    ")\n",
    "test_image_generator = constant_image_generator.flow_from_directory(\n",
    "    directory=TEST_DATA_DIRECTORY,\n",
    "    target_size=(IMAGE_SIZE, IMAGE_SIZE),\n",
    "    shuffle=False,\n",
    "    color_mode='rgba',\n",
    "    batch_size=BATCH_SIZE\n",
    ")"
   ]
  },
  {
   "cell_type": "markdown",
   "metadata": {},
   "source": [
    "## Count data"
   ]
  },
  {
   "cell_type": "code",
   "execution_count": 3,
   "metadata": {},
   "outputs": [
    {
     "name": "stdout",
     "output_type": "stream",
     "text": [
      "Found 205 files in sprites\\training\n",
      "Found 23 files in sprites\\test\n"
     ]
    }
   ],
   "source": [
    "import os\n",
    "\n",
    "def get_file_count_in_subdirectories_of(directory):\n",
    "    subdirectories = os.listdir(directory)\n",
    "    sum = 0\n",
    "    for subdirectory in subdirectories:\n",
    "        subdirectory_path = os.path.join(directory, subdirectory)\n",
    "        files = os.listdir(subdirectory_path)\n",
    "        file_count = len(files)\n",
    "        sum = sum + file_count\n",
    "    print(f'Found {sum} files in {directory}')\n",
    "    return sum\n",
    "\n",
    "TRAIN_DATA_COUNT = get_file_count_in_subdirectories_of(TRAIN_DATA_DIRECTORY)\n",
    "TEST_DATA_COUNT = get_file_count_in_subdirectories_of(TEST_DATA_DIRECTORY)"
   ]
  },
  {
   "cell_type": "markdown",
   "metadata": {},
   "source": [
    "## View data"
   ]
  },
  {
   "cell_type": "code",
   "execution_count": 124,
   "metadata": {
    "scrolled": true
   },
   "outputs": [
    {
     "data": {
      "image/png": "[encoded data removed]",
      "text/plain": [
       "<Figure size 720x720 with 5 Axes>"
      ]
     },
     "metadata": {
      "needs_background": "light"
     },
     "output_type": "display_data"
    }
   ],
   "source": [
    "import matplotlib.pyplot as plot\n",
    "import numpy\n",
    "\n",
    "sample_training_images, labels = next(test_image_generator)\n",
    "class_label = {v:k for k,v in test_image_generator.class_indices.items()}\n",
    "fig, axes = plot.subplots(1, 5, figsize=(10, 10))\n",
    "axes = axes.flatten()\n",
    "for img, label, ax in zip(sample_training_images, labels, axes):\n",
    "    ax.set_title(class_label[numpy.argmax(label)])\n",
    "    ax.imshow(img)\n",
    "    ax.axis('off')\n",
    "plot.tight_layout()"
   ]
  },
  {
   "cell_type": "markdown",
   "metadata": {},
   "source": [
    "## Build network"
   ]
  },
  {
   "cell_type": "code",
   "execution_count": 5,
   "metadata": {},
   "outputs": [],
   "source": [
    "from tensorflow.keras.models import Sequential\n",
    "from tensorflow.keras.layers import Dense, Conv2D, Flatten, Dropout, MaxPooling2D\n",
    "\n",
    "model = Sequential([\n",
    "    Conv2D(16, 3, padding='same', activation='relu', input_shape=(IMAGE_SIZE, IMAGE_SIZE, 4)),\n",
    "    MaxPooling2D(),\n",
    "    Conv2D(32, 3, padding='same', activation='relu'),\n",
    "    MaxPooling2D(),\n",
    "    Conv2D(64, 3, padding='same', activation='relu'),\n",
    "    MaxPooling2D(),\n",
    "    Flatten(),\n",
    "    Dense(512, activation='relu'),\n",
    "    Dense(2, activation='sigmoid')\n",
    "])"
   ]
  },
  {
   "cell_type": "markdown",
   "metadata": {},
   "source": [
    "The model now looks like this"
   ]
  },
  {
   "cell_type": "code",
   "execution_count": 6,
   "metadata": {},
   "outputs": [
    {
     "name": "stdout",
     "output_type": "stream",
     "text": [
      "Model: \"sequential\"\n",
      "_________________________________________________________________\n",
      "Layer (type)                 Output Shape              Param #   \n",
      "=================================================================\n",
      "conv2d (Conv2D)              (None, 128, 128, 16)      592       \n",
      "_________________________________________________________________\n",
      "max_pooling2d (MaxPooling2D) (None, 64, 64, 16)        0         \n",
      "_________________________________________________________________\n",
      "conv2d_1 (Conv2D)            (None, 64, 64, 32)        4640      \n",
      "_________________________________________________________________\n",
      "max_pooling2d_1 (MaxPooling2 (None, 32, 32, 32)        0         \n",
      "_________________________________________________________________\n",
      "conv2d_2 (Conv2D)            (None, 32, 32, 64)        18496     \n",
      "_________________________________________________________________\n",
      "max_pooling2d_2 (MaxPooling2 (None, 16, 16, 64)        0         \n",
      "_________________________________________________________________\n",
      "flatten (Flatten)            (None, 16384)             0         \n",
      "_________________________________________________________________\n",
      "dense (Dense)                (None, 512)               8389120   \n",
      "_________________________________________________________________\n",
      "dense_1 (Dense)              (None, 2)                 1026      \n",
      "=================================================================\n",
      "Total params: 8,413,874\n",
      "Trainable params: 8,413,874\n",
      "Non-trainable params: 0\n",
      "_________________________________________________________________\n"
     ]
    }
   ],
   "source": [
    "model.summary()"
   ]
  },
  {
   "cell_type": "markdown",
   "metadata": {},
   "source": [
    "## Train model"
   ]
  },
  {
   "cell_type": "code",
   "execution_count": 7,
   "metadata": {},
   "outputs": [
    {
     "name": "stdout",
     "output_type": "stream",
     "text": [
      "Epoch 1/200\n",
      "7/6 [================================] - 8s 1s/step - loss: 0.7501 - accuracy: 0.5415 - val_loss: 0.9540 - val_accuracy: 0.5435\n",
      "Epoch 2/200\n",
      "7/6 [================================] - 4s 510ms/step - loss: 0.6510 - accuracy: 0.5756 - val_loss: 0.9327 - val_accuracy: 0.5652\n",
      "Epoch 3/200\n",
      "7/6 [================================] - 4s 515ms/step - loss: 0.6434 - accuracy: 0.6024 - val_loss: 0.9154 - val_accuracy: 0.5435\n",
      "Epoch 4/200\n",
      "7/6 [================================] - 4s 507ms/step - loss: 0.5784 - accuracy: 0.6659 - val_loss: 0.9073 - val_accuracy: 0.6304\n",
      "Epoch 5/200\n",
      "7/6 [================================] - 4s 552ms/step - loss: 0.5513 - accuracy: 0.7073 - val_loss: 1.0199 - val_accuracy: 0.6739\n",
      "Epoch 6/200\n",
      "7/6 [================================] - 3s 466ms/step - loss: 0.5127 - accuracy: 0.7220 - val_loss: 1.0832 - val_accuracy: 0.6522\n",
      "Epoch 7/200\n",
      "7/6 [================================] - 4s 534ms/step - loss: 0.4536 - accuracy: 0.7878 - val_loss: 0.8716 - val_accuracy: 0.6522\n",
      "Epoch 8/200\n",
      "7/6 [================================] - 3s 430ms/step - loss: 0.4534 - accuracy: 0.7756 - val_loss: 0.8008 - val_accuracy: 0.6087\n",
      "Epoch 9/200\n",
      "7/6 [================================] - 3s 431ms/step - loss: 0.3919 - accuracy: 0.8512 - val_loss: 0.8690 - val_accuracy: 0.6957\n",
      "Epoch 10/200\n",
      "7/6 [================================] - 3s 440ms/step - loss: 0.3674 - accuracy: 0.8366 - val_loss: 0.8657 - val_accuracy: 0.6957\n",
      "Epoch 11/200\n",
      "7/6 [================================] - 3s 456ms/step - loss: 0.4284 - accuracy: 0.8220 - val_loss: 0.8765 - val_accuracy: 0.7826\n",
      "Epoch 12/200\n",
      "7/6 [================================] - 3s 425ms/step - loss: 0.3372 - accuracy: 0.8707 - val_loss: 0.8966 - val_accuracy: 0.7391\n",
      "Epoch 13/200\n",
      "7/6 [================================] - 3s 448ms/step - loss: 0.3637 - accuracy: 0.8585 - val_loss: 0.8759 - val_accuracy: 0.7826\n",
      "Epoch 14/200\n",
      "7/6 [================================] - 3s 431ms/step - loss: 0.3049 - accuracy: 0.8610 - val_loss: 1.0024 - val_accuracy: 0.6087\n",
      "Epoch 15/200\n",
      "7/6 [================================] - 3s 426ms/step - loss: 0.3144 - accuracy: 0.8561 - val_loss: 1.0812 - val_accuracy: 0.6957\n",
      "Epoch 16/200\n",
      "7/6 [================================] - 3s 427ms/step - loss: 0.2788 - accuracy: 0.8927 - val_loss: 0.8742 - val_accuracy: 0.8478\n",
      "Epoch 17/200\n",
      "7/6 [================================] - 3s 419ms/step - loss: 0.2975 - accuracy: 0.8805 - val_loss: 0.9130 - val_accuracy: 0.6739\n",
      "Epoch 18/200\n",
      "7/6 [================================] - 3s 424ms/step - loss: 0.2344 - accuracy: 0.9244 - val_loss: 0.9531 - val_accuracy: 0.8261\n",
      "Epoch 19/200\n",
      "7/6 [================================] - 3s 421ms/step - loss: 0.1949 - accuracy: 0.9366 - val_loss: 1.3765 - val_accuracy: 0.8043\n",
      "Epoch 20/200\n",
      "7/6 [================================] - 3s 446ms/step - loss: 0.2543 - accuracy: 0.8878 - val_loss: 1.3206 - val_accuracy: 0.6957\n",
      "Epoch 21/200\n",
      "7/6 [================================] - 3s 430ms/step - loss: 0.2473 - accuracy: 0.9146 - val_loss: 1.3986 - val_accuracy: 0.7609\n",
      "Epoch 22/200\n",
      "7/6 [================================] - 3s 425ms/step - loss: 0.2169 - accuracy: 0.9366 - val_loss: 0.9911 - val_accuracy: 0.8261\n",
      "Epoch 23/200\n",
      "7/6 [================================] - 3s 423ms/step - loss: 0.1845 - accuracy: 0.9317 - val_loss: 1.1464 - val_accuracy: 0.8696\n",
      "Epoch 24/200\n",
      "7/6 [================================] - 3s 427ms/step - loss: 0.1531 - accuracy: 0.9463 - val_loss: 1.2645 - val_accuracy: 0.8261\n",
      "Epoch 25/200\n",
      "7/6 [================================] - 3s 419ms/step - loss: 0.1288 - accuracy: 0.9512 - val_loss: 1.3502 - val_accuracy: 0.8261\n",
      "Epoch 26/200\n",
      "7/6 [================================] - 3s 460ms/step - loss: 0.1268 - accuracy: 0.9512 - val_loss: 1.3039 - val_accuracy: 0.8261\n",
      "Epoch 27/200\n",
      "7/6 [================================] - 3s 461ms/step - loss: 0.1565 - accuracy: 0.9390 - val_loss: 1.2056 - val_accuracy: 0.8261\n",
      "Epoch 28/200\n",
      "7/6 [================================] - 3s 459ms/step - loss: 0.1801 - accuracy: 0.9244 - val_loss: 1.3640 - val_accuracy: 0.8261\n",
      "Epoch 29/200\n",
      "7/6 [================================] - 3s 464ms/step - loss: 0.1409 - accuracy: 0.9488 - val_loss: 1.3700 - val_accuracy: 0.7826\n",
      "Epoch 30/200\n",
      "7/6 [================================] - 3s 437ms/step - loss: 0.1639 - accuracy: 0.9366 - val_loss: 1.2477 - val_accuracy: 0.6522\n",
      "Epoch 31/200\n",
      "7/6 [================================] - 3s 435ms/step - loss: 0.1439 - accuracy: 0.9317 - val_loss: 1.7168 - val_accuracy: 0.7826\n",
      "Epoch 32/200\n",
      "7/6 [================================] - 3s 440ms/step - loss: 0.1562 - accuracy: 0.9220 - val_loss: 1.5511 - val_accuracy: 0.6957\n",
      "Epoch 33/200\n",
      "7/6 [================================] - 3s 489ms/step - loss: 0.1983 - accuracy: 0.9195 - val_loss: 1.3950 - val_accuracy: 0.7826\n",
      "Epoch 34/200\n",
      "7/6 [================================] - 3s 453ms/step - loss: 0.1371 - accuracy: 0.9561 - val_loss: 1.2401 - val_accuracy: 0.8261\n",
      "Epoch 35/200\n",
      "7/6 [================================] - 3s 456ms/step - loss: 0.1174 - accuracy: 0.9683 - val_loss: 1.4287 - val_accuracy: 0.8261\n",
      "Epoch 36/200\n",
      "7/6 [================================] - 3s 448ms/step - loss: 0.1158 - accuracy: 0.9512 - val_loss: 1.6701 - val_accuracy: 0.7391\n",
      "Epoch 37/200\n",
      "7/6 [================================] - 3s 420ms/step - loss: 0.1046 - accuracy: 0.9683 - val_loss: 1.2362 - val_accuracy: 0.7391\n",
      "Epoch 38/200\n",
      "7/6 [================================] - 3s 439ms/step - loss: 0.1113 - accuracy: 0.9634 - val_loss: 1.3404 - val_accuracy: 0.8261\n",
      "Epoch 39/200\n",
      "7/6 [================================] - 3s 425ms/step - loss: 0.0616 - accuracy: 0.9878 - val_loss: 1.4678 - val_accuracy: 0.8261\n",
      "Epoch 40/200\n",
      "7/6 [================================] - 3s 434ms/step - loss: 0.0522 - accuracy: 0.9805 - val_loss: 1.5881 - val_accuracy: 0.8261\n",
      "Epoch 41/200\n",
      "7/6 [================================] - 3s 425ms/step - loss: 0.0710 - accuracy: 0.9805 - val_loss: 1.6799 - val_accuracy: 0.8696\n",
      "Epoch 42/200\n",
      "7/6 [================================] - 3s 429ms/step - loss: 0.0600 - accuracy: 0.9854 - val_loss: 1.6949 - val_accuracy: 0.8261\n",
      "Epoch 43/200\n",
      "7/6 [================================] - 3s 445ms/step - loss: 0.0673 - accuracy: 0.9854 - val_loss: 1.8468 - val_accuracy: 0.8261\n",
      "Epoch 44/200\n",
      "7/6 [================================] - 3s 424ms/step - loss: 0.0434 - accuracy: 0.9902 - val_loss: 1.8736 - val_accuracy: 0.8261\n",
      "Epoch 45/200\n",
      "7/6 [================================] - 3s 427ms/step - loss: 0.0811 - accuracy: 0.9756 - val_loss: 1.8889 - val_accuracy: 0.8261\n",
      "Epoch 46/200\n",
      "7/6 [================================] - 3s 434ms/step - loss: 0.0931 - accuracy: 0.9756 - val_loss: 1.6924 - val_accuracy: 0.8261\n",
      "Epoch 47/200\n",
      "7/6 [================================] - 3s 423ms/step - loss: 0.0659 - accuracy: 0.9756 - val_loss: 1.5373 - val_accuracy: 0.7826\n",
      "Epoch 48/200\n",
      "7/6 [================================] - 3s 428ms/step - loss: 0.0773 - accuracy: 0.9780 - val_loss: 1.8500 - val_accuracy: 0.7826\n",
      "Epoch 49/200\n",
      "7/6 [================================] - 3s 431ms/step - loss: 0.0538 - accuracy: 0.9854 - val_loss: 2.0256 - val_accuracy: 0.8261\n",
      "Epoch 50/200\n",
      "7/6 [================================] - 3s 428ms/step - loss: 0.0361 - accuracy: 0.9854 - val_loss: 2.1361 - val_accuracy: 0.8261\n",
      "Epoch 51/200\n",
      "7/6 [================================] - 3s 421ms/step - loss: 0.0322 - accuracy: 0.9829 - val_loss: 2.0829 - val_accuracy: 0.8261\n",
      "Epoch 52/200\n",
      "7/6 [================================] - 3s 444ms/step - loss: 0.0337 - accuracy: 0.9854 - val_loss: 1.9516 - val_accuracy: 0.8696\n",
      "Epoch 53/200\n",
      "7/6 [================================] - 3s 443ms/step - loss: 0.0339 - accuracy: 0.9829 - val_loss: 1.7253 - val_accuracy: 0.8261\n",
      "Epoch 54/200\n",
      "7/6 [================================] - 3s 447ms/step - loss: 0.0476 - accuracy: 0.9854 - val_loss: 2.0679 - val_accuracy: 0.8261\n",
      "Epoch 55/200\n",
      "7/6 [================================] - 3s 416ms/step - loss: 0.0278 - accuracy: 0.9854 - val_loss: 2.1823 - val_accuracy: 0.8261\n",
      "Epoch 56/200\n",
      "7/6 [================================] - 3s 430ms/step - loss: 0.0583 - accuracy: 0.9805 - val_loss: 2.1225 - val_accuracy: 0.8261\n",
      "Epoch 57/200\n",
      "7/6 [================================] - 3s 441ms/step - loss: 0.0642 - accuracy: 0.9610 - val_loss: 1.5867 - val_accuracy: 0.8261\n"
     ]
    },
    {
     "name": "stdout",
     "output_type": "stream",
     "text": [
      "Epoch 58/200\n",
      "7/6 [================================] - 3s 451ms/step - loss: 0.0608 - accuracy: 0.9707 - val_loss: 1.3824 - val_accuracy: 0.8261\n",
      "Epoch 59/200\n",
      "7/6 [================================] - 3s 436ms/step - loss: 0.0527 - accuracy: 0.9805 - val_loss: 1.5390 - val_accuracy: 0.8261\n",
      "Epoch 60/200\n",
      "7/6 [================================] - 3s 425ms/step - loss: 0.0367 - accuracy: 0.9854 - val_loss: 1.8268 - val_accuracy: 0.8261\n",
      "Epoch 61/200\n",
      "7/6 [================================] - 3s 420ms/step - loss: 0.0462 - accuracy: 0.9854 - val_loss: 1.9223 - val_accuracy: 0.8261\n",
      "Epoch 62/200\n",
      "7/6 [================================] - 3s 443ms/step - loss: 0.0311 - accuracy: 0.9902 - val_loss: 2.1155 - val_accuracy: 0.8261\n",
      "Epoch 63/200\n",
      "7/6 [================================] - 3s 414ms/step - loss: 0.0332 - accuracy: 0.9854 - val_loss: 2.3099 - val_accuracy: 0.8261\n",
      "Epoch 64/200\n",
      "7/6 [================================] - 3s 434ms/step - loss: 0.0321 - accuracy: 0.9902 - val_loss: 2.1993 - val_accuracy: 0.8261\n",
      "Epoch 65/200\n",
      "7/6 [================================] - 3s 441ms/step - loss: 0.0448 - accuracy: 0.9854 - val_loss: 2.1486 - val_accuracy: 0.8261\n",
      "Epoch 66/200\n",
      "7/6 [================================] - 3s 470ms/step - loss: 0.0743 - accuracy: 0.9707 - val_loss: 2.3675 - val_accuracy: 0.8043\n",
      "Epoch 67/200\n",
      "7/6 [================================] - 3s 465ms/step - loss: 0.1041 - accuracy: 0.9610 - val_loss: 2.2936 - val_accuracy: 0.7826\n",
      "Epoch 68/200\n",
      "7/6 [================================] - 3s 473ms/step - loss: 0.0358 - accuracy: 0.9854 - val_loss: 2.5814 - val_accuracy: 0.8261\n",
      "Epoch 69/200\n",
      "7/6 [================================] - 3s 458ms/step - loss: 0.0706 - accuracy: 0.9732 - val_loss: 2.1189 - val_accuracy: 0.8261\n",
      "Epoch 70/200\n",
      "7/6 [================================] - 3s 487ms/step - loss: 0.0953 - accuracy: 0.9683 - val_loss: 2.0884 - val_accuracy: 0.6957\n",
      "Epoch 71/200\n",
      "7/6 [================================] - 3s 465ms/step - loss: 0.0858 - accuracy: 0.9659 - val_loss: 1.6285 - val_accuracy: 0.8261\n",
      "Epoch 72/200\n",
      "7/6 [================================] - 4s 509ms/step - loss: 0.0378 - accuracy: 0.9878 - val_loss: 1.7816 - val_accuracy: 0.8261\n",
      "Epoch 73/200\n",
      "7/6 [================================] - 3s 490ms/step - loss: 0.0297 - accuracy: 0.9854 - val_loss: 1.9980 - val_accuracy: 0.8261\n",
      "Epoch 74/200\n",
      "7/6 [================================] - 3s 490ms/step - loss: 0.0411 - accuracy: 0.9805 - val_loss: 2.1427 - val_accuracy: 0.8261\n",
      "Epoch 75/200\n",
      "7/6 [================================] - 3s 468ms/step - loss: 0.0210 - accuracy: 0.9902 - val_loss: 2.1402 - val_accuracy: 0.8261\n",
      "Epoch 76/200\n",
      "7/6 [================================] - 3s 461ms/step - loss: 0.0179 - accuracy: 0.9951 - val_loss: 2.2026 - val_accuracy: 0.8261\n",
      "Epoch 77/200\n",
      "7/6 [================================] - 3s 448ms/step - loss: 0.0209 - accuracy: 0.9951 - val_loss: 2.3641 - val_accuracy: 0.8261\n",
      "Epoch 78/200\n",
      "7/6 [================================] - 4s 504ms/step - loss: 0.0217 - accuracy: 0.9902 - val_loss: 2.4298 - val_accuracy: 0.8478\n",
      "Epoch 79/200\n",
      "7/6 [================================] - 3s 493ms/step - loss: 0.0355 - accuracy: 0.9902 - val_loss: 2.4079 - val_accuracy: 0.8261\n",
      "Epoch 80/200\n",
      "7/6 [================================] - 3s 495ms/step - loss: 0.0226 - accuracy: 0.9854 - val_loss: 2.4141 - val_accuracy: 0.8261\n",
      "Epoch 81/200\n",
      "7/6 [================================] - 3s 496ms/step - loss: 0.0359 - accuracy: 0.9902 - val_loss: 2.2847 - val_accuracy: 0.8261\n",
      "Epoch 82/200\n",
      "7/6 [================================] - 3s 467ms/step - loss: 0.0284 - accuracy: 0.9927 - val_loss: 2.3035 - val_accuracy: 0.8261\n",
      "Epoch 83/200\n",
      "7/6 [================================] - 3s 461ms/step - loss: 0.0217 - accuracy: 0.9951 - val_loss: 2.4375 - val_accuracy: 0.8261\n",
      "Epoch 84/200\n",
      "7/6 [================================] - 3s 475ms/step - loss: 0.0230 - accuracy: 0.9951 - val_loss: 2.4356 - val_accuracy: 0.8261\n",
      "Epoch 85/200\n",
      "7/6 [================================] - 3s 467ms/step - loss: 0.0081 - accuracy: 1.0000 - val_loss: 2.3823 - val_accuracy: 0.8261\n",
      "Epoch 86/200\n",
      "7/6 [================================] - 3s 496ms/step - loss: 0.0167 - accuracy: 0.9951 - val_loss: 2.2910 - val_accuracy: 0.8261\n",
      "Epoch 87/200\n",
      "7/6 [================================] - 3s 483ms/step - loss: 0.0143 - accuracy: 0.9902 - val_loss: 2.2949 - val_accuracy: 0.8261\n",
      "Epoch 88/200\n",
      "7/6 [================================] - 3s 488ms/step - loss: 0.0226 - accuracy: 0.9902 - val_loss: 2.4272 - val_accuracy: 0.8261\n",
      "Epoch 89/200\n",
      "7/6 [================================] - 3s 489ms/step - loss: 0.0222 - accuracy: 0.9854 - val_loss: 2.4103 - val_accuracy: 0.8261\n",
      "Epoch 90/200\n",
      "7/6 [================================] - 3s 463ms/step - loss: 0.0494 - accuracy: 0.9805 - val_loss: 2.5819 - val_accuracy: 0.7826\n",
      "Epoch 91/200\n",
      "7/6 [================================] - 3s 455ms/step - loss: 0.0468 - accuracy: 0.9854 - val_loss: 2.5370 - val_accuracy: 0.7826\n",
      "Epoch 92/200\n",
      "7/6 [================================] - 3s 445ms/step - loss: 0.0778 - accuracy: 0.9463 - val_loss: 2.2971 - val_accuracy: 0.8261\n",
      "Epoch 93/200\n",
      "7/6 [================================] - 3s 460ms/step - loss: 0.0528 - accuracy: 0.9805 - val_loss: 2.6375 - val_accuracy: 0.7826\n",
      "Epoch 94/200\n",
      "7/6 [================================] - 3s 451ms/step - loss: 0.0590 - accuracy: 0.9805 - val_loss: 2.6495 - val_accuracy: 0.8696\n",
      "Epoch 95/200\n",
      "7/6 [================================] - 3s 447ms/step - loss: 0.0415 - accuracy: 0.9878 - val_loss: 2.6163 - val_accuracy: 0.8261\n",
      "Epoch 96/200\n",
      "7/6 [================================] - 3s 441ms/step - loss: 0.0334 - accuracy: 0.9878 - val_loss: 2.4808 - val_accuracy: 0.8261\n",
      "Epoch 97/200\n",
      "7/6 [================================] - 3s 466ms/step - loss: 0.0239 - accuracy: 0.9878 - val_loss: 2.3025 - val_accuracy: 0.8261\n",
      "Epoch 98/200\n",
      "7/6 [================================] - 3s 454ms/step - loss: 0.0450 - accuracy: 0.9780 - val_loss: 2.0832 - val_accuracy: 0.7826\n",
      "Epoch 99/200\n",
      "7/6 [================================] - 3s 450ms/step - loss: 0.0212 - accuracy: 0.9927 - val_loss: 2.1630 - val_accuracy: 0.7826\n",
      "Epoch 100/200\n",
      "7/6 [================================] - 3s 448ms/step - loss: 0.0276 - accuracy: 0.9854 - val_loss: 2.3850 - val_accuracy: 0.8261\n",
      "Epoch 101/200\n",
      "7/6 [================================] - 3s 457ms/step - loss: 0.0220 - accuracy: 0.9902 - val_loss: 2.5019 - val_accuracy: 0.8261\n",
      "Epoch 102/200\n",
      "7/6 [================================] - 3s 473ms/step - loss: 0.0289 - accuracy: 0.9854 - val_loss: 2.4883 - val_accuracy: 0.8261\n",
      "Epoch 103/200\n",
      "7/6 [================================] - 3s 480ms/step - loss: 0.0230 - accuracy: 0.9854 - val_loss: 2.3002 - val_accuracy: 0.8261\n",
      "Epoch 104/200\n",
      "7/6 [================================] - 3s 493ms/step - loss: 0.0331 - accuracy: 0.9854 - val_loss: 2.2958 - val_accuracy: 0.7826\n",
      "Epoch 105/200\n",
      "7/6 [================================] - 3s 476ms/step - loss: 0.0191 - accuracy: 0.9927 - val_loss: 2.2130 - val_accuracy: 0.8261\n",
      "Epoch 106/200\n",
      "7/6 [================================] - 3s 449ms/step - loss: 0.0251 - accuracy: 0.9951 - val_loss: 2.2422 - val_accuracy: 0.7826\n",
      "Epoch 107/200\n",
      "7/6 [================================] - 3s 453ms/step - loss: 0.0257 - accuracy: 0.9902 - val_loss: 2.1680 - val_accuracy: 0.8261\n",
      "Epoch 108/200\n",
      "7/6 [================================] - 4s 548ms/step - loss: 0.0180 - accuracy: 0.9854 - val_loss: 2.2363 - val_accuracy: 0.8261\n",
      "Epoch 109/200\n",
      "7/6 [================================] - 4s 626ms/step - loss: 0.0243 - accuracy: 0.9854 - val_loss: 2.2989 - val_accuracy: 0.8261\n",
      "Epoch 110/200\n",
      "7/6 [================================] - 3s 491ms/step - loss: 0.0224 - accuracy: 0.9902 - val_loss: 2.3591 - val_accuracy: 0.8261\n",
      "Epoch 111/200\n",
      "7/6 [================================] - 4s 535ms/step - loss: 0.0176 - accuracy: 0.9902 - val_loss: 2.4274 - val_accuracy: 0.8261\n",
      "Epoch 112/200\n",
      "7/6 [================================] - 4s 515ms/step - loss: 0.0191 - accuracy: 0.9902 - val_loss: 2.5025 - val_accuracy: 0.8261\n",
      "Epoch 113/200\n",
      "7/6 [================================] - 4s 531ms/step - loss: 0.0194 - accuracy: 0.9902 - val_loss: 2.4978 - val_accuracy: 0.8261\n",
      "Epoch 114/200\n",
      "7/6 [================================] - 3s 478ms/step - loss: 0.0302 - accuracy: 0.9878 - val_loss: 2.4064 - val_accuracy: 0.8261\n"
     ]
    },
    {
     "name": "stdout",
     "output_type": "stream",
     "text": [
      "Epoch 115/200\n",
      "7/6 [================================] - 3s 466ms/step - loss: 0.0158 - accuracy: 0.9854 - val_loss: 2.3398 - val_accuracy: 0.8261\n",
      "Epoch 116/200\n",
      "7/6 [================================] - 3s 458ms/step - loss: 0.0302 - accuracy: 0.9854 - val_loss: 2.2361 - val_accuracy: 0.8261\n",
      "Epoch 117/200\n",
      "7/6 [================================] - 3s 458ms/step - loss: 0.0301 - accuracy: 0.9805 - val_loss: 2.1907 - val_accuracy: 0.8261\n",
      "Epoch 118/200\n",
      "7/6 [================================] - 3s 467ms/step - loss: 0.0250 - accuracy: 0.9902 - val_loss: 2.1516 - val_accuracy: 0.8261\n",
      "Epoch 119/200\n",
      "7/6 [================================] - 3s 457ms/step - loss: 0.0193 - accuracy: 0.9902 - val_loss: 2.1687 - val_accuracy: 0.8261\n",
      "Epoch 120/200\n",
      "7/6 [================================] - 3s 449ms/step - loss: 0.0221 - accuracy: 0.9854 - val_loss: 2.0279 - val_accuracy: 0.8261\n",
      "Epoch 121/200\n",
      "7/6 [================================] - 3s 457ms/step - loss: 0.0164 - accuracy: 0.9902 - val_loss: 2.0131 - val_accuracy: 0.8261\n",
      "Epoch 122/200\n",
      "7/6 [================================] - 3s 452ms/step - loss: 0.0218 - accuracy: 0.9902 - val_loss: 2.0391 - val_accuracy: 0.8261\n",
      "Epoch 123/200\n",
      "7/6 [================================] - 3s 452ms/step - loss: 0.0131 - accuracy: 0.9951 - val_loss: 2.2087 - val_accuracy: 0.8261\n",
      "Epoch 124/200\n",
      "7/6 [================================] - 3s 448ms/step - loss: 0.0211 - accuracy: 0.9902 - val_loss: 2.4024 - val_accuracy: 0.8261\n",
      "Epoch 125/200\n",
      "7/6 [================================] - 3s 450ms/step - loss: 0.0082 - accuracy: 1.0000 - val_loss: 2.5303 - val_accuracy: 0.8261\n",
      "Epoch 126/200\n",
      "7/6 [================================] - 3s 450ms/step - loss: 0.0211 - accuracy: 0.9902 - val_loss: 2.5551 - val_accuracy: 0.8261\n",
      "Epoch 127/200\n",
      "7/6 [================================] - 3s 451ms/step - loss: 0.0062 - accuracy: 1.0000 - val_loss: 2.5519 - val_accuracy: 0.8261\n",
      "Epoch 128/200\n",
      "7/6 [================================] - 3s 464ms/step - loss: 0.0253 - accuracy: 0.9854 - val_loss: 2.5331 - val_accuracy: 0.8261\n",
      "Epoch 129/200\n",
      "7/6 [================================] - 3s 448ms/step - loss: 0.0371 - accuracy: 0.9805 - val_loss: 2.4542 - val_accuracy: 0.8261\n",
      "Epoch 130/200\n",
      "7/6 [================================] - 3s 450ms/step - loss: 0.0160 - accuracy: 0.9878 - val_loss: 2.3735 - val_accuracy: 0.8261\n",
      "Epoch 131/200\n",
      "7/6 [================================] - 3s 458ms/step - loss: 0.0160 - accuracy: 0.9854 - val_loss: 2.3655 - val_accuracy: 0.8261\n",
      "Epoch 132/200\n",
      "7/6 [================================] - 3s 456ms/step - loss: 0.0171 - accuracy: 0.9854 - val_loss: 2.3869 - val_accuracy: 0.8261\n",
      "Epoch 133/200\n",
      "7/6 [================================] - 3s 446ms/step - loss: 0.0215 - accuracy: 0.9854 - val_loss: 2.4013 - val_accuracy: 0.8261\n",
      "Epoch 134/200\n",
      "7/6 [================================] - 3s 456ms/step - loss: 0.0166 - accuracy: 0.9902 - val_loss: 2.3968 - val_accuracy: 0.8261\n",
      "Epoch 135/200\n",
      "7/6 [================================] - 3s 455ms/step - loss: 0.0159 - accuracy: 0.9854 - val_loss: 2.3985 - val_accuracy: 0.8261\n",
      "Epoch 136/200\n",
      "7/6 [================================] - 3s 456ms/step - loss: 0.0208 - accuracy: 0.9854 - val_loss: 2.4137 - val_accuracy: 0.8261\n",
      "Epoch 137/200\n",
      "7/6 [================================] - 3s 447ms/step - loss: 0.0230 - accuracy: 0.9829 - val_loss: 2.4058 - val_accuracy: 0.8261\n",
      "Epoch 138/200\n",
      "7/6 [================================] - 3s 478ms/step - loss: 0.0138 - accuracy: 0.9902 - val_loss: 2.3674 - val_accuracy: 0.8261\n",
      "Epoch 139/200\n",
      "7/6 [================================] - 3s 487ms/step - loss: 0.0208 - accuracy: 0.9854 - val_loss: 2.4517 - val_accuracy: 0.8261\n",
      "Epoch 140/200\n",
      "7/6 [================================] - 3s 479ms/step - loss: 0.0187 - accuracy: 0.9854 - val_loss: 2.5284 - val_accuracy: 0.8261\n",
      "Epoch 141/200\n",
      "7/6 [================================] - 3s 480ms/step - loss: 0.0227 - accuracy: 0.9902 - val_loss: 2.4913 - val_accuracy: 0.8261\n",
      "Epoch 142/200\n",
      "7/6 [================================] - 3s 456ms/step - loss: 0.0271 - accuracy: 0.9854 - val_loss: 2.4308 - val_accuracy: 0.8261\n",
      "Epoch 143/200\n",
      "7/6 [================================] - 3s 451ms/step - loss: 0.0201 - accuracy: 0.9854 - val_loss: 2.4682 - val_accuracy: 0.8261\n",
      "Epoch 144/200\n",
      "7/6 [================================] - 3s 452ms/step - loss: 0.0154 - accuracy: 0.9902 - val_loss: 2.4489 - val_accuracy: 0.8261\n",
      "Epoch 145/200\n",
      "7/6 [================================] - 4s 504ms/step - loss: 0.0187 - accuracy: 0.9902 - val_loss: 2.4107 - val_accuracy: 0.8261\n",
      "Epoch 146/200\n",
      "7/6 [================================] - 3s 497ms/step - loss: 0.0130 - accuracy: 0.9902 - val_loss: 2.5823 - val_accuracy: 0.8261\n",
      "Epoch 147/200\n",
      "7/6 [================================] - 3s 487ms/step - loss: 0.0250 - accuracy: 0.9854 - val_loss: 2.5698 - val_accuracy: 0.8261\n",
      "Epoch 148/200\n",
      "7/6 [================================] - 3s 456ms/step - loss: 0.0223 - accuracy: 0.9829 - val_loss: 2.4922 - val_accuracy: 0.8261\n",
      "Epoch 149/200\n",
      "7/6 [================================] - 3s 445ms/step - loss: 0.0197 - accuracy: 0.9902 - val_loss: 2.4276 - val_accuracy: 0.8261\n",
      "Epoch 150/200\n",
      "7/6 [================================] - 3s 452ms/step - loss: 0.0170 - accuracy: 0.9902 - val_loss: 2.4451 - val_accuracy: 0.8261\n",
      "Epoch 151/200\n",
      "7/6 [================================] - 3s 454ms/step - loss: 0.0285 - accuracy: 0.9902 - val_loss: 2.4370 - val_accuracy: 0.8261\n",
      "Epoch 152/200\n",
      "7/6 [================================] - 3s 445ms/step - loss: 0.0203 - accuracy: 0.9902 - val_loss: 2.4037 - val_accuracy: 0.8261\n",
      "Epoch 153/200\n",
      "7/6 [================================] - 3s 457ms/step - loss: 0.0199 - accuracy: 0.9927 - val_loss: 2.4225 - val_accuracy: 0.8261\n",
      "Epoch 154/200\n",
      "7/6 [================================] - 3s 451ms/step - loss: 0.0164 - accuracy: 0.9902 - val_loss: 2.4365 - val_accuracy: 0.8261\n",
      "Epoch 155/200\n",
      "7/6 [================================] - 3s 454ms/step - loss: 0.0160 - accuracy: 0.9902 - val_loss: 2.4652 - val_accuracy: 0.8261\n",
      "Epoch 156/200\n",
      "7/6 [================================] - 3s 451ms/step - loss: 0.0106 - accuracy: 0.9951 - val_loss: 2.4716 - val_accuracy: 0.8261\n",
      "Epoch 157/200\n",
      "7/6 [================================] - 3s 465ms/step - loss: 0.0290 - accuracy: 0.9829 - val_loss: 2.4390 - val_accuracy: 0.8261\n",
      "Epoch 158/200\n",
      "7/6 [================================] - 3s 473ms/step - loss: 0.0143 - accuracy: 0.9878 - val_loss: 2.3957 - val_accuracy: 0.8261\n",
      "Epoch 159/200\n",
      "7/6 [================================] - 3s 454ms/step - loss: 0.0142 - accuracy: 0.9902 - val_loss: 2.4256 - val_accuracy: 0.8261\n",
      "Epoch 160/200\n",
      "7/6 [================================] - 3s 464ms/step - loss: 0.0137 - accuracy: 0.9951 - val_loss: 2.5029 - val_accuracy: 0.8261\n",
      "Epoch 161/200\n",
      "7/6 [================================] - 3s 454ms/step - loss: 0.0155 - accuracy: 0.9902 - val_loss: 2.5330 - val_accuracy: 0.8261\n",
      "Epoch 162/200\n",
      "7/6 [================================] - 3s 483ms/step - loss: 0.0197 - accuracy: 0.9854 - val_loss: 2.5184 - val_accuracy: 0.8261\n",
      "Epoch 163/200\n",
      "7/6 [================================] - 3s 494ms/step - loss: 0.0170 - accuracy: 0.9854 - val_loss: 2.4951 - val_accuracy: 0.8261\n",
      "Epoch 164/200\n",
      "7/6 [================================] - 3s 493ms/step - loss: 0.0158 - accuracy: 0.9951 - val_loss: 2.5162 - val_accuracy: 0.8261\n",
      "Epoch 165/200\n",
      "7/6 [================================] - 4s 515ms/step - loss: 0.0137 - accuracy: 0.9976 - val_loss: 2.6059 - val_accuracy: 0.8261\n",
      "Epoch 166/200\n",
      "7/6 [================================] - 4s 500ms/step - loss: 0.0167 - accuracy: 0.9878 - val_loss: 2.6010 - val_accuracy: 0.8261\n",
      "Epoch 167/200\n",
      "7/6 [================================] - 3s 494ms/step - loss: 0.0162 - accuracy: 0.9902 - val_loss: 2.6225 - val_accuracy: 0.8261\n",
      "Epoch 168/200\n",
      "7/6 [================================] - 3s 494ms/step - loss: 0.0171 - accuracy: 0.9902 - val_loss: 2.5999 - val_accuracy: 0.8261\n",
      "Epoch 169/200\n",
      "7/6 [================================] - 4s 507ms/step - loss: 0.0141 - accuracy: 0.9902 - val_loss: 2.5395 - val_accuracy: 0.8261\n",
      "Epoch 170/200\n",
      "7/6 [================================] - 3s 460ms/step - loss: 0.0142 - accuracy: 0.9902 - val_loss: 2.5657 - val_accuracy: 0.8261\n",
      "Epoch 171/200\n"
     ]
    },
    {
     "name": "stdout",
     "output_type": "stream",
     "text": [
      "7/6 [================================] - 3s 453ms/step - loss: 0.0195 - accuracy: 0.9854 - val_loss: 2.5189 - val_accuracy: 0.8261\n",
      "Epoch 172/200\n",
      "7/6 [================================] - 3s 438ms/step - loss: 0.0193 - accuracy: 0.9878 - val_loss: 2.5469 - val_accuracy: 0.8261\n",
      "Epoch 173/200\n",
      "7/6 [================================] - 3s 464ms/step - loss: 0.0243 - accuracy: 0.9902 - val_loss: 2.5435 - val_accuracy: 0.8261\n",
      "Epoch 174/200\n",
      "7/6 [================================] - 3s 454ms/step - loss: 0.0227 - accuracy: 0.9902 - val_loss: 2.4600 - val_accuracy: 0.8261\n",
      "Epoch 175/200\n",
      "7/6 [================================] - 3s 478ms/step - loss: 0.0330 - accuracy: 0.9854 - val_loss: 2.4029 - val_accuracy: 0.8261\n",
      "Epoch 176/200\n",
      "7/6 [================================] - 3s 481ms/step - loss: 0.0144 - accuracy: 0.9902 - val_loss: 2.4146 - val_accuracy: 0.8261\n",
      "Epoch 177/200\n",
      "7/6 [================================] - 3s 488ms/step - loss: 0.0140 - accuracy: 0.9902 - val_loss: 2.4875 - val_accuracy: 0.8261\n",
      "Epoch 178/200\n",
      "7/6 [================================] - 3s 468ms/step - loss: 0.0162 - accuracy: 0.9927 - val_loss: 2.5287 - val_accuracy: 0.8261\n",
      "Epoch 179/200\n",
      "7/6 [================================] - 3s 438ms/step - loss: 0.0168 - accuracy: 0.9902 - val_loss: 2.5797 - val_accuracy: 0.8261\n",
      "Epoch 180/200\n",
      "7/6 [================================] - 3s 451ms/step - loss: 0.0154 - accuracy: 0.9854 - val_loss: 2.6030 - val_accuracy: 0.8261\n",
      "Epoch 181/200\n",
      "7/6 [================================] - 3s 480ms/step - loss: 0.0128 - accuracy: 0.9902 - val_loss: 2.6321 - val_accuracy: 0.8261\n",
      "Epoch 182/200\n",
      "7/6 [================================] - 3s 467ms/step - loss: 0.0282 - accuracy: 0.9878 - val_loss: 2.5976 - val_accuracy: 0.8261\n",
      "Epoch 183/200\n",
      "7/6 [================================] - 3s 486ms/step - loss: 0.0210 - accuracy: 0.9854 - val_loss: 2.4971 - val_accuracy: 0.8261\n",
      "Epoch 184/200\n",
      "7/6 [================================] - 3s 494ms/step - loss: 0.0169 - accuracy: 0.9878 - val_loss: 2.4082 - val_accuracy: 0.8261\n",
      "Epoch 185/200\n",
      "7/6 [================================] - 3s 449ms/step - loss: 0.0178 - accuracy: 0.9829 - val_loss: 2.3688 - val_accuracy: 0.8261\n",
      "Epoch 186/200\n",
      "7/6 [================================] - 3s 453ms/step - loss: 0.0152 - accuracy: 0.9854 - val_loss: 2.3643 - val_accuracy: 0.8261\n",
      "Epoch 187/200\n",
      "7/6 [================================] - 3s 461ms/step - loss: 0.0269 - accuracy: 0.9902 - val_loss: 2.3901 - val_accuracy: 0.8261\n",
      "Epoch 188/200\n",
      "7/6 [================================] - 3s 451ms/step - loss: 0.0202 - accuracy: 0.9951 - val_loss: 2.3428 - val_accuracy: 0.8261\n",
      "Epoch 189/200\n",
      "7/6 [================================] - 3s 463ms/step - loss: 0.0156 - accuracy: 0.9902 - val_loss: 2.3001 - val_accuracy: 0.8261\n",
      "Epoch 190/200\n",
      "7/6 [================================] - 3s 452ms/step - loss: 0.0184 - accuracy: 0.9902 - val_loss: 2.3589 - val_accuracy: 0.8261\n",
      "Epoch 191/200\n",
      "7/6 [================================] - 3s 440ms/step - loss: 0.0135 - accuracy: 0.9854 - val_loss: 2.4398 - val_accuracy: 0.8261\n",
      "Epoch 192/200\n",
      "7/6 [================================] - 3s 448ms/step - loss: 0.0181 - accuracy: 0.9805 - val_loss: 2.5109 - val_accuracy: 0.8261\n",
      "Epoch 193/200\n",
      "7/6 [================================] - 3s 462ms/step - loss: 0.0273 - accuracy: 0.9902 - val_loss: 2.5304 - val_accuracy: 0.8261\n",
      "Epoch 194/200\n",
      "7/6 [================================] - 3s 453ms/step - loss: 0.0204 - accuracy: 0.9854 - val_loss: 2.4849 - val_accuracy: 0.8261\n",
      "Epoch 195/200\n",
      "7/6 [================================] - 3s 451ms/step - loss: 0.0170 - accuracy: 0.9902 - val_loss: 2.4044 - val_accuracy: 0.8261\n",
      "Epoch 196/200\n",
      "7/6 [================================] - 3s 450ms/step - loss: 0.0152 - accuracy: 0.9902 - val_loss: 2.3503 - val_accuracy: 0.8261\n",
      "Epoch 197/200\n",
      "7/6 [================================] - 3s 460ms/step - loss: 0.0146 - accuracy: 0.9951 - val_loss: 2.3399 - val_accuracy: 0.8261\n",
      "Epoch 198/200\n",
      "7/6 [================================] - 3s 450ms/step - loss: 0.0190 - accuracy: 0.9902 - val_loss: 2.5791 - val_accuracy: 0.8261\n",
      "Epoch 199/200\n",
      "7/6 [================================] - 3s 448ms/step - loss: 0.0126 - accuracy: 0.9951 - val_loss: 2.7381 - val_accuracy: 0.8261\n",
      "Epoch 200/200\n",
      "7/6 [================================] - 3s 437ms/step - loss: 0.0180 - accuracy: 0.9854 - val_loss: 2.7596 - val_accuracy: 0.8261\n",
      "Done training\n"
     ]
    }
   ],
   "source": [
    "model.compile(\n",
    "    optimizer='adam',\n",
    "    loss='binary_crossentropy',\n",
    "    metrics=['accuracy']\n",
    ")\n",
    "\n",
    "snapshot_callback = tensorflow.keras.callbacks.ModelCheckpoint(\n",
    "    filepath=\"./.snapshots\"\n",
    ")\n",
    "\n",
    "EPOCHS = 200\n",
    "STEPS = TRAIN_DATA_COUNT / BATCH_SIZE\n",
    "VALIDATION_STEPS = TEST_DATA_COUNT / BATCH_SIZE\n",
    "\n",
    "history = model.fit_generator(\n",
    "    steps_per_epoch=STEPS,\n",
    "    epochs=EPOCHS,\n",
    "    generator=train_image_generator,\n",
    "    #callbacks=[snapshot_callback],\n",
    "    validation_data=test_image_generator,\n",
    "    validation_steps=VALIDATION_STEPS\n",
    ")\n",
    "print('Done training')"
   ]
  },
  {
   "cell_type": "markdown",
   "metadata": {},
   "source": [
    "## Evaluate score"
   ]
  },
  {
   "cell_type": "code",
   "execution_count": 123,
   "metadata": {},
   "outputs": [
    {
     "name": "stdout",
     "output_type": "stream",
     "text": [
      "[0 0 0 0 0 0 0 0 0 0 1 1 1 1 1 1 1 1 1 1 1 1 1]\n",
      "Final Score: 0.8260869565217391\n"
     ]
    }
   ],
   "source": [
    "import numpy\n",
    "from sklearn import metrics\n",
    "\n",
    "prediction = model.predict(test_image_generator)\n",
    "prediction = numpy.argmax(prediction, axis=1)\n",
    "images, actual = next(test_image_generator)\n",
    "actual = numpy.argmax(actual, axis=1)\n",
    "print(actual)\n",
    "score = metrics.accuracy_score(actual, prediction)\n",
    "print(f'Final Score: {score}')"
   ]
  },
  {
   "cell_type": "markdown",
   "metadata": {},
   "source": [
    "## Monitor training"
   ]
  },
  {
   "cell_type": "code",
   "execution_count": 135,
   "metadata": {
    "scrolled": true
   },
   "outputs": [
    {
     "data": {
      "image/png": "[encoded data removed]",
      "text/plain": [
       "<Figure size 432x288 with 2 Axes>"
      ]
     },
     "metadata": {
      "needs_background": "light"
     },
     "output_type": "display_data"
    }
   ],
   "source": [
    "import matplotlib.pyplot as plot\n",
    "\n",
    "LOSS = history.history['loss']\n",
    "LOSS_VALIDATION = history.history['val_loss']\n",
    "\n",
    "ACCURACY = history.history['accuracy']\n",
    "ACCURACY_VALIDATION = history.history['val_accuracy']\n",
    "\n",
    "EPOCHS_RANGE = range(EPOCHS)\n",
    "\n",
    "plot.figure()\n",
    "plot.subplot(1, 2, 1)\n",
    "plot.plot(EPOCHS_RANGE, LOSS, label='Training')\n",
    "plot.plot(EPOCHS_RANGE, LOSS_VALIDATION, label='Test')\n",
    "plot.legend()\n",
    "plot.title('Loss')\n",
    "\n",
    "plot.subplot(1, 2, 2)\n",
    "plot.plot(EPOCHS_RANGE, ACCURACY, label='Training')\n",
    "plot.plot(EPOCHS_RANGE, ACCURACY_VALIDATION, label='Test')\n",
    "plot.legend()\n",
    "plot.title('Accuracy')\n",
    "\n",
    "plot.show()"
   ]
  },
  {
   "cell_type": "markdown",
   "metadata": {},
   "source": [
    "## Confusion matrix"
   ]
  },
  {
   "cell_type": "markdown",
   "metadata": {},
   "source": [
    "Because the dataset is not balanced (i.e. there are more water than grass sprites), the values in the confusion matrix need to be normalized. Otherwise, the calculation will be biased towards the water sprites."
   ]
  },
  {
   "cell_type": "code",
   "execution_count": 134,
   "metadata": {},
   "outputs": [
    {
     "data": {
      "text/plain": [
       "Text(0.5, 0, 'Predicted')"
      ]
     },
     "execution_count": 134,
     "metadata": {},
     "output_type": "execute_result"
    },
    {
     "data": {
      "image/png": "[encoded data removed]",
      "text/plain": [
       "<Figure size 432x288 with 2 Axes>"
      ]
     },
     "metadata": {
      "needs_background": "light"
     },
     "output_type": "display_data"
    }
   ],
   "source": [
    "import matplotlib.pyplot as plot\n",
    "from sklearn import metrics\n",
    "import numpy\n",
    "\n",
    "class_names = ['grass', 'water']\n",
    "confusion_matrix = metrics.confusion_matrix(actual, prediction)\n",
    "normalized_confusion_matrix = confusion_matrix / confusion_matrix.sum(axis=1)[:, numpy.newaxis]\n",
    "plot.imshow(normalized_confusion_matrix)\n",
    "plot.title('Confusion matrix')\n",
    "plot.colorbar()\n",
    "tick_marks = [0, 1]\n",
    "plot.xticks(tick_marks, class_names, rotation=45)\n",
    "plot.yticks(tick_marks, class_names)\n",
    "plot.ylabel('Actual')\n",
    "plot.xlabel('Predicted')"
   ]
  },
  {
   "cell_type": "markdown",
   "metadata": {},
   "source": [
    "## Plot ROC"
   ]
  },
  {
   "cell_type": "code",
   "execution_count": 152,
   "metadata": {},
   "outputs": [
    {
     "data": {
      "text/plain": [
       "Text(0, 0.5, 'True positive')"
      ]
     },
     "execution_count": 152,
     "metadata": {},
     "output_type": "execute_result"
    },
    {
     "data": {
      "image/png": "[encoded data removed]",
      "text/plain": [
       "<Figure size 432x288 with 1 Axes>"
      ]
     },
     "metadata": {
      "needs_background": "light"
     },
     "output_type": "display_data"
    }
   ],
   "source": [
    "import matplotlib.pyplot as plot\n",
    "import sklearn.metrics\n",
    "\n",
    "predictions = model.predict(test_image_generator)\n",
    "positive_predictions = predictions[:, 1]\n",
    "\n",
    "fpr, tpr, _ = metrics.roc_curve(actual, positive_predictions)\n",
    "roc_auc = metrics.auc(fpr, tpr)\n",
    "\n",
    "plot.title(f'ROC (area = {roc_auc})')\n",
    "plot.plot(fpr, tpr)\n",
    "plot.plot([0, 1], [0, 1], ':k')\n",
    "plot.xlabel('False positive')\n",
    "plot.ylabel('True positive')"
   ]
  },
  {
   "cell_type": "markdown",
   "metadata": {},
   "source": [
    "## Save model"
   ]
  },
  {
   "cell_type": "code",
   "execution_count": 92,
   "metadata": {},
   "outputs": [],
   "source": [
    "model.save('pokemon_type_model.h5')"
   ]
  }
 ],
 "metadata": {
  "kernelspec": {
   "display_name": "Python 3",
   "language": "python",
   "name": "python3"
  },
  "language_info": {
   "codemirror_mode": {
    "name": "ipython",
    "version": 3
   },
   "file_extension": ".py",
   "mimetype": "text/x-python",
   "name": "python",
   "nbconvert_exporter": "python",
   "pygments_lexer": "ipython3",
   "version": "3.7.3"
  }
 },
 "nbformat": 4,
 "nbformat_minor": 2
}
