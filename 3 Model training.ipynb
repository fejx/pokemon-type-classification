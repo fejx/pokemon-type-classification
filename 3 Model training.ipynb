{
 "cells": [
  {
   "cell_type": "markdown",
   "metadata": {},
   "source": [
    "# Model training"
   ]
  },
  {
   "cell_type": "code",
   "execution_count": 1,
   "metadata": {},
   "outputs": [],
   "source": [
    "import os\n",
    "\n",
    "SPRITE_DIRECTORY = 'sprites'\n",
    "TRAIN_DATA_DIRECTORY = os.path.join(SPRITE_DIRECTORY, 'training')\n",
    "TEST_DATA_DIRECTORY = os.path.join(SPRITE_DIRECTORY, 'test')"
   ]
  },
  {
   "cell_type": "markdown",
   "metadata": {},
   "source": [
    "## Set up data flow"
   ]
  },
  {
   "cell_type": "code",
   "execution_count": 2,
   "metadata": {},
   "outputs": [
    {
     "name": "stdout",
     "output_type": "stream",
     "text": [
      "Flowing from sprites\\training\n",
      "Found 205 images belonging to 2 classes.\n",
      "Flowing from sprites\\test\n",
      "Found 23 images belonging to 2 classes.\n"
     ]
    }
   ],
   "source": [
    "import tensorflow\n",
    "\n",
    "IMAGE_SIZE = 128\n",
    "BATCH_SIZE = 32\n",
    "\n",
    "print(f'Flowing from {TRAIN_DATA_DIRECTORY}')\n",
    "varying_image_generator = tensorflow.keras.preprocessing.image.ImageDataGenerator(\n",
    "    rescale=1./255,\n",
    "    horizontal_flip=True,\n",
    "    rotation_range=15,\n",
    "    zoom_range=0.05\n",
    ")\n",
    "train_image_generator = varying_image_generator.flow_from_directory(\n",
    "    directory=TRAIN_DATA_DIRECTORY,\n",
    "    target_size=(IMAGE_SIZE, IMAGE_SIZE),\n",
    "    shuffle=True,\n",
    "    batch_size=BATCH_SIZE,\n",
    "    color_mode='rgba',\n",
    "    save_to_dir='/generated'\n",
    ")\n",
    "print(f'Flowing from {TEST_DATA_DIRECTORY}')\n",
    "constant_image_generator = tensorflow.keras.preprocessing.image.ImageDataGenerator(\n",
    "    rescale=1./255\n",
    ")\n",
    "test_image_generator = constant_image_generator.flow_from_directory(\n",
    "    directory=TEST_DATA_DIRECTORY,\n",
    "    target_size=(IMAGE_SIZE, IMAGE_SIZE),\n",
    "    shuffle=False,\n",
    "    color_mode='rgba',\n",
    "    batch_size=BATCH_SIZE\n",
    ")"
   ]
  },
  {
   "cell_type": "markdown",
   "metadata": {},
   "source": [
    "## Count data"
   ]
  },
  {
   "cell_type": "code",
   "execution_count": 3,
   "metadata": {},
   "outputs": [
    {
     "name": "stdout",
     "output_type": "stream",
     "text": [
      "Found 205 files in sprites\\training\n",
      "Found 23 files in sprites\\test\n"
     ]
    }
   ],
   "source": [
    "import os\n",
    "\n",
    "def get_file_count_in_subdirectories_of(directory):\n",
    "    subdirectories = os.listdir(directory)\n",
    "    sum = 0\n",
    "    for subdirectory in subdirectories:\n",
    "        subdirectory_path = os.path.join(directory, subdirectory)\n",
    "        files = os.listdir(subdirectory_path)\n",
    "        file_count = len(files)\n",
    "        sum = sum + file_count\n",
    "    print(f'Found {sum} files in {directory}')\n",
    "    return sum\n",
    "\n",
    "TRAIN_DATA_COUNT = get_file_count_in_subdirectories_of(TRAIN_DATA_DIRECTORY)\n",
    "TEST_DATA_COUNT = get_file_count_in_subdirectories_of(TEST_DATA_DIRECTORY)"
   ]
  },
  {
   "cell_type": "markdown",
   "metadata": {},
   "source": [
    "## View data"
   ]
  },
  {
   "cell_type": "code",
   "execution_count": 4,
   "metadata": {
    "scrolled": true
   },
   "outputs": [],
   "source": [
    "import matplotlib.pyplot as plot\n",
    "import numpy\n",
    "\n",
    "sample_training_images, labels = next(test_image_generator)\n",
    "class_label = {v:k for k,v in test_image_generator.class_indices.items()}\n",
    "fig, axes = plot.subplots(4, 5, figsize=(10, 10))\n",
    "axes = axes.flatten()\n",
    "for img, label, ax in zip(sample_training_images, labels, axes):\n",
    "    ax.set_title(class_label[numpy.argmax(label)])\n",
    "    ax.imshow(img)\n",
    "    ax.axis('off')\n",
    "plot.tight_layout()"
   ]
  },
  {
   "cell_type": "markdown",
   "metadata": {},
   "source": [
    "## Build network"
   ]
  },
  {
   "cell_type": "code",
   "execution_count": 5,
   "metadata": {},
   "outputs": [],
   "source": [
    "from tensorflow.keras.models import Sequential\n",
    "from tensorflow.keras.layers import Dense, Conv2D, Flatten, Dropout, MaxPooling2D\n",
    "\n",
    "model = Sequential([\n",
    "    Conv2D(16, 3, padding='same', activation='relu', input_shape=(IMAGE_SIZE, IMAGE_SIZE, 4)),\n",
    "    MaxPooling2D(),\n",
    "    Conv2D(32, 3, padding='same', activation='relu'),\n",
    "    MaxPooling2D(),\n",
    "    Conv2D(64, 3, padding='same', activation='relu'),\n",
    "    MaxPooling2D(),\n",
    "    Flatten(),\n",
    "    Dense(512, activation='relu'),\n",
    "    Dense(2, activation='sigmoid')\n",
    "])"
   ]
  },
  {
   "cell_type": "markdown",
   "metadata": {},
   "source": [
    "The model now looks like this"
   ]
  },
  {
   "cell_type": "code",
   "execution_count": 6,
   "metadata": {},
   "outputs": [
    {
     "name": "stdout",
     "output_type": "stream",
     "text": [
      "Model: \"sequential\"\n",
      "_________________________________________________________________\n",
      "Layer (type)                 Output Shape              Param #   \n",
      "=================================================================\n",
      "conv2d (Conv2D)              (None, 128, 128, 16)      592       \n",
      "_________________________________________________________________\n",
      "max_pooling2d (MaxPooling2D) (None, 64, 64, 16)        0         \n",
      "_________________________________________________________________\n",
      "conv2d_1 (Conv2D)            (None, 64, 64, 32)        4640      \n",
      "_________________________________________________________________\n",
      "max_pooling2d_1 (MaxPooling2 (None, 32, 32, 32)        0         \n",
      "_________________________________________________________________\n",
      "conv2d_2 (Conv2D)            (None, 32, 32, 64)        18496     \n",
      "_________________________________________________________________\n",
      "max_pooling2d_2 (MaxPooling2 (None, 16, 16, 64)        0         \n",
      "_________________________________________________________________\n",
      "flatten (Flatten)            (None, 16384)             0         \n",
      "_________________________________________________________________\n",
      "dense (Dense)                (None, 512)               8389120   \n",
      "_________________________________________________________________\n",
      "dense_1 (Dense)              (None, 2)                 1026      \n",
      "=================================================================\n",
      "Total params: 8,413,874\n",
      "Trainable params: 8,413,874\n",
      "Non-trainable params: 0\n",
      "_________________________________________________________________\n"
     ]
    }
   ],
   "source": [
    "model.summary()"
   ]
  },
  {
   "cell_type": "markdown",
   "metadata": {},
   "source": [
    "## Train model"
   ]
  },
  {
   "cell_type": "code",
   "execution_count": 7,
   "metadata": {},
   "outputs": [
    {
     "name": "stdout",
     "output_type": "stream",
     "text": [
      "Epoch 1/200\n",
      "7/6 [================================] - 4s 593ms/step - loss: 0.9151 - accuracy: 0.5268 - val_loss: 0.9359 - val_accuracy: 0.5652\n",
      "Epoch 2/200\n",
      "7/6 [================================] - 4s 610ms/step - loss: 0.6729 - accuracy: 0.5854 - val_loss: 0.9395 - val_accuracy: 0.5870\n",
      "Epoch 3/200\n",
      "7/6 [================================] - 4s 592ms/step - loss: 0.6762 - accuracy: 0.5756 - val_loss: 0.9224 - val_accuracy: 0.5652\n",
      "Epoch 4/200\n",
      "7/6 [================================] - 4s 571ms/step - loss: 0.6628 - accuracy: 0.5780 - val_loss: 0.8902 - val_accuracy: 0.5652\n",
      "Epoch 5/200\n",
      "7/6 [================================] - 4s 566ms/step - loss: 0.6358 - accuracy: 0.6000 - val_loss: 0.8097 - val_accuracy: 0.6957\n",
      "Epoch 6/200\n",
      "7/6 [================================] - 4s 610ms/step - loss: 0.6126 - accuracy: 0.6439 - val_loss: 0.7389 - val_accuracy: 0.7826\n",
      "Epoch 7/200\n",
      "7/6 [================================] - 4s 606ms/step - loss: 0.5675 - accuracy: 0.7146 - val_loss: 0.6301 - val_accuracy: 0.8478\n",
      "Epoch 8/200\n",
      "7/6 [================================] - 4s 610ms/step - loss: 0.5362 - accuracy: 0.7122 - val_loss: 0.5184 - val_accuracy: 0.9130\n",
      "Epoch 9/200\n",
      "7/6 [================================] - 4s 570ms/step - loss: 0.4691 - accuracy: 0.8341 - val_loss: 0.4829 - val_accuracy: 0.8261\n",
      "Epoch 10/200\n",
      "7/6 [================================] - 4s 544ms/step - loss: 0.4472 - accuracy: 0.7780 - val_loss: 0.3937 - val_accuracy: 0.9348\n",
      "Epoch 11/200\n",
      "7/6 [================================] - 4s 630ms/step - loss: 0.3826 - accuracy: 0.8439 - val_loss: 0.3526 - val_accuracy: 0.9348\n",
      "Epoch 12/200\n",
      "7/6 [================================] - 4s 626ms/step - loss: 0.3921 - accuracy: 0.8463 - val_loss: 0.3914 - val_accuracy: 0.9130\n",
      "Epoch 13/200\n",
      "7/6 [================================] - 4s 589ms/step - loss: 0.3842 - accuracy: 0.8244 - val_loss: 0.4399 - val_accuracy: 0.9130\n",
      "Epoch 14/200\n",
      "7/6 [================================] - 4s 566ms/step - loss: 0.3653 - accuracy: 0.8317 - val_loss: 0.3802 - val_accuracy: 0.8478\n",
      "Epoch 15/200\n",
      "7/6 [================================] - 4s 569ms/step - loss: 0.3185 - accuracy: 0.8927 - val_loss: 0.5575 - val_accuracy: 0.7826\n",
      "Epoch 16/200\n",
      "7/6 [================================] - 4s 607ms/step - loss: 0.3051 - accuracy: 0.8756 - val_loss: 0.4111 - val_accuracy: 0.8696\n",
      "Epoch 17/200\n",
      "7/6 [================================] - 4s 608ms/step - loss: 0.3262 - accuracy: 0.8463 - val_loss: 0.3059 - val_accuracy: 0.9348\n",
      "Epoch 18/200\n",
      "7/6 [================================] - 4s 601ms/step - loss: 0.2882 - accuracy: 0.8976 - val_loss: 0.3023 - val_accuracy: 0.9565\n",
      "Epoch 19/200\n",
      "7/6 [================================] - 4s 564ms/step - loss: 0.2577 - accuracy: 0.8976 - val_loss: 0.3735 - val_accuracy: 0.8478\n",
      "Epoch 20/200\n",
      "7/6 [================================] - 4s 580ms/step - loss: 0.2710 - accuracy: 0.8976 - val_loss: 0.3846 - val_accuracy: 0.9130\n",
      "Epoch 21/200\n",
      "7/6 [================================] - 4s 593ms/step - loss: 0.2123 - accuracy: 0.9341 - val_loss: 0.3636 - val_accuracy: 0.8478\n",
      "Epoch 22/200\n",
      "7/6 [================================] - 4s 609ms/step - loss: 0.2750 - accuracy: 0.8659 - val_loss: 0.5020 - val_accuracy: 0.8261\n",
      "Epoch 23/200\n",
      "7/6 [================================] - 5s 653ms/step - loss: 0.2386 - accuracy: 0.9024 - val_loss: 0.7221 - val_accuracy: 0.7826\n",
      "Epoch 24/200\n",
      "7/6 [================================] - 4s 591ms/step - loss: 0.3306 - accuracy: 0.8512 - val_loss: 0.4273 - val_accuracy: 0.8478\n",
      "Epoch 25/200\n",
      "7/6 [================================] - 4s 611ms/step - loss: 0.2115 - accuracy: 0.9122 - val_loss: 0.2760 - val_accuracy: 0.9565\n",
      "Epoch 26/200\n",
      "7/6 [================================] - 4s 630ms/step - loss: 0.2523 - accuracy: 0.9171 - val_loss: 0.4001 - val_accuracy: 0.8478\n",
      "Epoch 27/200\n",
      "7/6 [================================] - 4s 606ms/step - loss: 0.1979 - accuracy: 0.9268 - val_loss: 0.3734 - val_accuracy: 0.8261\n",
      "Epoch 28/200\n",
      "7/6 [================================] - 4s 572ms/step - loss: 0.1840 - accuracy: 0.9293 - val_loss: 0.2767 - val_accuracy: 0.9565\n",
      "Epoch 29/200\n",
      "7/6 [================================] - 4s 563ms/step - loss: 0.2612 - accuracy: 0.8854 - val_loss: 0.6757 - val_accuracy: 0.8261\n",
      "Epoch 30/200\n",
      "7/6 [================================] - 4s 621ms/step - loss: 0.2162 - accuracy: 0.9098 - val_loss: 0.4394 - val_accuracy: 0.8261\n",
      "Epoch 31/200\n",
      "7/6 [================================] - 4s 617ms/step - loss: 0.1586 - accuracy: 0.9488 - val_loss: 0.3516 - val_accuracy: 0.9130\n",
      "Epoch 32/200\n",
      "7/6 [================================] - 4s 623ms/step - loss: 0.1649 - accuracy: 0.9439 - val_loss: 0.5034 - val_accuracy: 0.8261\n",
      "Epoch 33/200\n",
      "7/6 [================================] - 4s 569ms/step - loss: 0.1645 - accuracy: 0.9390 - val_loss: 0.3983 - val_accuracy: 0.8696\n",
      "Epoch 34/200\n",
      "7/6 [================================] - 4s 598ms/step - loss: 0.1203 - accuracy: 0.9585 - val_loss: 0.3558 - val_accuracy: 0.9130\n",
      "Epoch 35/200\n",
      "7/6 [================================] - 5s 716ms/step - loss: 0.1423 - accuracy: 0.9488 - val_loss: 0.3866 - val_accuracy: 0.9130\n",
      "Epoch 36/200\n",
      "7/6 [================================] - 5s 674ms/step - loss: 0.1662 - accuracy: 0.9488 - val_loss: 0.4983 - val_accuracy: 0.8261\n",
      "Epoch 37/200\n",
      "7/6 [================================] - 4s 629ms/step - loss: 0.1578 - accuracy: 0.9146 - val_loss: 0.6245 - val_accuracy: 0.8261\n",
      "Epoch 38/200\n",
      "7/6 [================================] - 4s 589ms/step - loss: 0.1003 - accuracy: 0.9561 - val_loss: 0.4260 - val_accuracy: 0.9130\n",
      "Epoch 39/200\n",
      "7/6 [================================] - 4s 637ms/step - loss: 0.0733 - accuracy: 0.9805 - val_loss: 0.7282 - val_accuracy: 0.8261\n",
      "Epoch 40/200\n",
      "7/6 [================================] - 5s 732ms/step - loss: 0.0856 - accuracy: 0.9780 - val_loss: 0.3702 - val_accuracy: 0.9565\n",
      "Epoch 41/200\n",
      "7/6 [================================] - 4s 601ms/step - loss: 0.0870 - accuracy: 0.9756 - val_loss: 0.5057 - val_accuracy: 0.8261\n",
      "Epoch 42/200\n",
      "7/6 [================================] - 4s 639ms/step - loss: 0.0889 - accuracy: 0.9585 - val_loss: 0.6176 - val_accuracy: 0.8261\n",
      "Epoch 43/200\n",
      "7/6 [================================] - 4s 564ms/step - loss: 0.0795 - accuracy: 0.9805 - val_loss: 0.4432 - val_accuracy: 0.9565\n",
      "Epoch 44/200\n",
      "7/6 [================================] - 4s 634ms/step - loss: 0.0701 - accuracy: 0.9756 - val_loss: 0.8583 - val_accuracy: 0.8261\n",
      "Epoch 45/200\n",
      "7/6 [================================] - 4s 633ms/step - loss: 0.0800 - accuracy: 0.9585 - val_loss: 0.6376 - val_accuracy: 0.8261\n",
      "Epoch 46/200\n",
      "7/6 [================================] - 5s 737ms/step - loss: 0.1467 - accuracy: 0.9634 - val_loss: 0.4894 - val_accuracy: 0.9565\n",
      "Epoch 47/200\n",
      "7/6 [================================] - 5s 676ms/step - loss: 0.1922 - accuracy: 0.9195 - val_loss: 1.1558 - val_accuracy: 0.8261\n",
      "Epoch 48/200\n",
      "7/6 [================================] - 4s 574ms/step - loss: 0.1235 - accuracy: 0.9659 - val_loss: 0.4886 - val_accuracy: 0.8696\n",
      "Epoch 49/200\n",
      "7/6 [================================] - 5s 785ms/step - loss: 0.1341 - accuracy: 0.9488 - val_loss: 0.6034 - val_accuracy: 0.8696\n",
      "Epoch 50/200\n",
      "7/6 [================================] - 6s 845ms/step - loss: 0.0691 - accuracy: 0.9780 - val_loss: 0.7286 - val_accuracy: 0.8696\n",
      "Epoch 51/200\n",
      "7/6 [================================] - 5s 666ms/step - loss: 0.0463 - accuracy: 0.9780 - val_loss: 0.6540 - val_accuracy: 0.8696\n",
      "Epoch 52/200\n",
      "7/6 [================================] - 4s 583ms/step - loss: 0.0358 - accuracy: 0.9902 - val_loss: 0.7051 - val_accuracy: 0.8696\n",
      "Epoch 53/200\n",
      "7/6 [================================] - 5s 739ms/step - loss: 0.0540 - accuracy: 0.9805 - val_loss: 0.6820 - val_accuracy: 0.8696\n",
      "Epoch 54/200\n",
      "7/6 [================================] - 4s 635ms/step - loss: 0.0312 - accuracy: 0.9951 - val_loss: 0.6373 - val_accuracy: 0.8696\n",
      "Epoch 55/200\n",
      "7/6 [================================] - 4s 598ms/step - loss: 0.0499 - accuracy: 0.9805 - val_loss: 0.9536 - val_accuracy: 0.8696\n",
      "Epoch 56/200\n",
      "7/6 [================================] - 4s 565ms/step - loss: 0.0241 - accuracy: 0.9976 - val_loss: 0.7095 - val_accuracy: 0.8696\n",
      "Epoch 57/200\n",
      "7/6 [================================] - 4s 541ms/step - loss: 0.0577 - accuracy: 0.9854 - val_loss: 1.1850 - val_accuracy: 0.8043\n"
     ]
    },
    {
     "name": "stdout",
     "output_type": "stream",
     "text": [
      "Epoch 58/200\n",
      "7/6 [================================] - 5s 660ms/step - loss: 0.0316 - accuracy: 0.9951 - val_loss: 0.7221 - val_accuracy: 0.8696\n",
      "Epoch 59/200\n",
      "7/6 [================================] - 4s 586ms/step - loss: 0.0558 - accuracy: 0.9854 - val_loss: 0.8749 - val_accuracy: 0.8261\n",
      "Epoch 60/200\n",
      "7/6 [================================] - 5s 644ms/step - loss: 0.0415 - accuracy: 0.9902 - val_loss: 0.7871 - val_accuracy: 0.8696\n",
      "Epoch 61/200\n",
      "7/6 [================================] - 5s 673ms/step - loss: 0.0965 - accuracy: 0.9951 - val_loss: 1.4265 - val_accuracy: 0.7826\n",
      "Epoch 62/200\n",
      "7/6 [================================] - 4s 537ms/step - loss: 0.0544 - accuracy: 0.9902 - val_loss: 0.5644 - val_accuracy: 0.9565\n",
      "Epoch 63/200\n",
      "7/6 [================================] - 5s 702ms/step - loss: 0.0766 - accuracy: 0.9707 - val_loss: 1.0398 - val_accuracy: 0.8261\n",
      "Epoch 64/200\n",
      "7/6 [================================] - 4s 597ms/step - loss: 0.0889 - accuracy: 0.9634 - val_loss: 0.6894 - val_accuracy: 0.8478\n",
      "Epoch 65/200\n",
      "7/6 [================================] - 4s 610ms/step - loss: 0.0904 - accuracy: 0.9610 - val_loss: 1.2923 - val_accuracy: 0.7826\n",
      "Epoch 66/200\n",
      "7/6 [================================] - 4s 581ms/step - loss: 0.0929 - accuracy: 0.9585 - val_loss: 0.7812 - val_accuracy: 0.8696\n",
      "Epoch 67/200\n",
      "7/6 [================================] - 4s 582ms/step - loss: 0.1075 - accuracy: 0.9659 - val_loss: 1.0695 - val_accuracy: 0.7826\n",
      "Epoch 68/200\n",
      "7/6 [================================] - 4s 607ms/step - loss: 0.0662 - accuracy: 0.9756 - val_loss: 0.6363 - val_accuracy: 0.8696\n",
      "Epoch 69/200\n",
      "7/6 [================================] - 4s 639ms/step - loss: 0.0520 - accuracy: 0.9902 - val_loss: 0.5970 - val_accuracy: 0.9130\n",
      "Epoch 70/200\n",
      "7/6 [================================] - 5s 651ms/step - loss: 0.0532 - accuracy: 0.9854 - val_loss: 0.9227 - val_accuracy: 0.8261\n",
      "Epoch 71/200\n",
      "7/6 [================================] - 4s 565ms/step - loss: 0.0455 - accuracy: 0.9902 - val_loss: 0.5895 - val_accuracy: 0.9130\n",
      "Epoch 72/200\n",
      "7/6 [================================] - 4s 577ms/step - loss: 0.0314 - accuracy: 0.9902 - val_loss: 0.7155 - val_accuracy: 0.8696\n",
      "Epoch 73/200\n",
      "7/6 [================================] - 4s 566ms/step - loss: 0.0262 - accuracy: 0.9902 - val_loss: 0.8784 - val_accuracy: 0.9130\n",
      "Epoch 74/200\n",
      "7/6 [================================] - 4s 595ms/step - loss: 0.0279 - accuracy: 0.9951 - val_loss: 0.8076 - val_accuracy: 0.8696\n",
      "Epoch 75/200\n",
      "7/6 [================================] - 4s 607ms/step - loss: 0.0385 - accuracy: 0.9805 - val_loss: 1.0938 - val_accuracy: 0.8696\n",
      "Epoch 76/200\n",
      "7/6 [================================] - 4s 554ms/step - loss: 0.0313 - accuracy: 0.9854 - val_loss: 0.8910 - val_accuracy: 0.8696\n",
      "Epoch 77/200\n",
      "7/6 [================================] - 4s 564ms/step - loss: 0.0214 - accuracy: 0.9951 - val_loss: 0.6811 - val_accuracy: 0.9130\n",
      "Epoch 78/200\n",
      "7/6 [================================] - 4s 611ms/step - loss: 0.0299 - accuracy: 0.9854 - val_loss: 0.6622 - val_accuracy: 0.9130\n",
      "Epoch 79/200\n",
      "7/6 [================================] - 4s 629ms/step - loss: 0.0380 - accuracy: 0.9854 - val_loss: 0.6533 - val_accuracy: 0.9130\n",
      "Epoch 80/200\n",
      "7/6 [================================] - 6s 828ms/step - loss: 0.0237 - accuracy: 0.9854 - val_loss: 0.7902 - val_accuracy: 0.8696\n",
      "Epoch 81/200\n",
      "7/6 [================================] - 5s 660ms/step - loss: 0.0194 - accuracy: 0.9902 - val_loss: 0.8808 - val_accuracy: 0.8696\n",
      "Epoch 82/200\n",
      "7/6 [================================] - 5s 669ms/step - loss: 0.0241 - accuracy: 0.9951 - val_loss: 0.7236 - val_accuracy: 0.8913\n",
      "Epoch 83/200\n",
      "7/6 [================================] - 4s 619ms/step - loss: 0.0250 - accuracy: 0.9902 - val_loss: 0.6920 - val_accuracy: 0.9565\n",
      "Epoch 84/200\n",
      "7/6 [================================] - 4s 588ms/step - loss: 0.0370 - accuracy: 0.9878 - val_loss: 0.7608 - val_accuracy: 0.8696\n",
      "Epoch 85/200\n",
      "7/6 [================================] - 4s 613ms/step - loss: 0.0232 - accuracy: 0.9902 - val_loss: 0.7927 - val_accuracy: 0.8696\n",
      "Epoch 86/200\n",
      "7/6 [================================] - 4s 559ms/step - loss: 0.0189 - accuracy: 0.9951 - val_loss: 0.8137 - val_accuracy: 0.8696\n",
      "Epoch 87/200\n",
      "7/6 [================================] - 5s 645ms/step - loss: 0.0334 - accuracy: 0.9902 - val_loss: 0.8247 - val_accuracy: 0.8696\n",
      "Epoch 88/200\n",
      "7/6 [================================] - 4s 617ms/step - loss: 0.0365 - accuracy: 0.9878 - val_loss: 0.9054 - val_accuracy: 0.8478\n",
      "Epoch 89/200\n",
      "7/6 [================================] - 5s 681ms/step - loss: 0.0425 - accuracy: 0.9902 - val_loss: 0.7195 - val_accuracy: 0.9130\n",
      "Epoch 90/200\n",
      "7/6 [================================] - 4s 580ms/step - loss: 0.0445 - accuracy: 0.9829 - val_loss: 0.8533 - val_accuracy: 0.8696\n",
      "Epoch 91/200\n",
      "7/6 [================================] - 4s 598ms/step - loss: 0.0748 - accuracy: 0.9756 - val_loss: 0.6743 - val_accuracy: 0.9130\n",
      "Epoch 92/200\n",
      "7/6 [================================] - 4s 636ms/step - loss: 0.0520 - accuracy: 0.9780 - val_loss: 0.6623 - val_accuracy: 0.9130\n",
      "Epoch 93/200\n",
      "7/6 [================================] - 4s 640ms/step - loss: 0.0317 - accuracy: 0.9951 - val_loss: 0.8962 - val_accuracy: 0.8478\n",
      "Epoch 94/200\n",
      "7/6 [================================] - 4s 609ms/step - loss: 0.0327 - accuracy: 0.9902 - val_loss: 0.7865 - val_accuracy: 0.9130\n",
      "Epoch 95/200\n",
      "7/6 [================================] - 4s 581ms/step - loss: 0.0323 - accuracy: 0.9902 - val_loss: 0.9250 - val_accuracy: 0.8696\n",
      "Epoch 96/200\n",
      "7/6 [================================] - 6s 788ms/step - loss: 0.0355 - accuracy: 0.9829 - val_loss: 0.8286 - val_accuracy: 0.9130\n",
      "Epoch 97/200\n",
      "7/6 [================================] - 4s 610ms/step - loss: 0.0357 - accuracy: 0.9951 - val_loss: 0.7648 - val_accuracy: 0.9130\n",
      "Epoch 98/200\n",
      "7/6 [================================] - 4s 607ms/step - loss: 0.0202 - accuracy: 0.9902 - val_loss: 0.7922 - val_accuracy: 0.8696\n",
      "Epoch 99/200\n",
      "7/6 [================================] - 4s 580ms/step - loss: 0.0298 - accuracy: 0.9902 - val_loss: 0.6868 - val_accuracy: 0.9130\n",
      "Epoch 100/200\n",
      "7/6 [================================] - 4s 560ms/step - loss: 0.0143 - accuracy: 0.9951 - val_loss: 0.6485 - val_accuracy: 0.9565\n",
      "Epoch 101/200\n",
      "7/6 [================================] - 4s 595ms/step - loss: 0.0230 - accuracy: 0.9902 - val_loss: 0.6604 - val_accuracy: 0.9348\n",
      "Epoch 102/200\n",
      "7/6 [================================] - 4s 608ms/step - loss: 0.0143 - accuracy: 0.9927 - val_loss: 0.7499 - val_accuracy: 0.8696\n",
      "Epoch 103/200\n",
      "7/6 [================================] - 4s 608ms/step - loss: 0.0328 - accuracy: 0.9854 - val_loss: 0.7731 - val_accuracy: 0.8696\n",
      "Epoch 104/200\n",
      "7/6 [================================] - 5s 668ms/step - loss: 0.0427 - accuracy: 0.9805 - val_loss: 0.7119 - val_accuracy: 0.8696\n",
      "Epoch 105/200\n",
      "7/6 [================================] - 4s 640ms/step - loss: 0.0419 - accuracy: 0.9854 - val_loss: 0.6862 - val_accuracy: 0.8696\n",
      "Epoch 106/200\n",
      "7/6 [================================] - 5s 763ms/step - loss: 0.0304 - accuracy: 0.9854 - val_loss: 0.6254 - val_accuracy: 0.9130\n",
      "Epoch 107/200\n",
      "7/6 [================================] - 4s 623ms/step - loss: 0.0387 - accuracy: 0.9854 - val_loss: 0.6189 - val_accuracy: 0.9130\n",
      "Epoch 108/200\n",
      "7/6 [================================] - 6s 870ms/step - loss: 0.0172 - accuracy: 0.9902 - val_loss: 0.6643 - val_accuracy: 0.8913\n",
      "Epoch 109/200\n",
      "7/6 [================================] - 5s 730ms/step - loss: 0.0461 - accuracy: 0.9805 - val_loss: 0.6946 - val_accuracy: 0.8913\n",
      "Epoch 110/200\n",
      "7/6 [================================] - 5s 692ms/step - loss: 0.0340 - accuracy: 0.9854 - val_loss: 0.6161 - val_accuracy: 0.9348\n",
      "Epoch 111/200\n",
      "7/6 [================================] - 5s 678ms/step - loss: 0.0135 - accuracy: 1.0000 - val_loss: 0.7885 - val_accuracy: 0.8261\n",
      "Epoch 112/200\n",
      "7/6 [================================] - 5s 704ms/step - loss: 0.0336 - accuracy: 0.9854 - val_loss: 0.8665 - val_accuracy: 0.8696\n",
      "Epoch 113/200\n",
      "7/6 [================================] - 5s 715ms/step - loss: 0.0146 - accuracy: 0.9902 - val_loss: 0.9556 - val_accuracy: 0.8696\n",
      "Epoch 114/200\n",
      "7/6 [================================] - 5s 702ms/step - loss: 0.0312 - accuracy: 0.9854 - val_loss: 0.9576 - val_accuracy: 0.8696\n"
     ]
    },
    {
     "name": "stdout",
     "output_type": "stream",
     "text": [
      "Epoch 115/200\n",
      "7/6 [================================] - 5s 698ms/step - loss: 0.0231 - accuracy: 0.9854 - val_loss: 0.7931 - val_accuracy: 0.8696\n",
      "Epoch 116/200\n",
      "7/6 [================================] - 6s 786ms/step - loss: 0.0191 - accuracy: 0.9902 - val_loss: 0.7515 - val_accuracy: 0.8696\n",
      "Epoch 117/200\n",
      "7/6 [================================] - 5s 672ms/step - loss: 0.0217 - accuracy: 0.9854 - val_loss: 0.7561 - val_accuracy: 0.8696\n",
      "Epoch 118/200\n",
      "7/6 [================================] - 6s 899ms/step - loss: 0.0147 - accuracy: 0.9951 - val_loss: 0.8314 - val_accuracy: 0.8696\n",
      "Epoch 119/200\n",
      "7/6 [================================] - 4s 632ms/step - loss: 0.0183 - accuracy: 0.9878 - val_loss: 0.8718 - val_accuracy: 0.8696\n",
      "Epoch 120/200\n",
      "7/6 [================================] - 5s 701ms/step - loss: 0.0125 - accuracy: 0.9951 - val_loss: 0.8179 - val_accuracy: 0.8696\n",
      "Epoch 121/200\n",
      "7/6 [================================] - 6s 824ms/step - loss: 0.0242 - accuracy: 0.9878 - val_loss: 0.8204 - val_accuracy: 0.8696\n",
      "Epoch 122/200\n",
      "7/6 [================================] - 5s 745ms/step - loss: 0.0201 - accuracy: 0.9902 - val_loss: 0.8441 - val_accuracy: 0.8696\n",
      "Epoch 123/200\n",
      "7/6 [================================] - 5s 753ms/step - loss: 0.0147 - accuracy: 0.9951 - val_loss: 0.8824 - val_accuracy: 0.8696\n",
      "Epoch 124/200\n",
      "7/6 [================================] - 5s 669ms/step - loss: 0.0247 - accuracy: 0.9902 - val_loss: 1.0313 - val_accuracy: 0.8696\n",
      "Epoch 125/200\n",
      "7/6 [================================] - 4s 601ms/step - loss: 0.0078 - accuracy: 1.0000 - val_loss: 0.9709 - val_accuracy: 0.8696\n",
      "Epoch 126/200\n",
      "7/6 [================================] - 4s 572ms/step - loss: 0.0276 - accuracy: 0.9854 - val_loss: 0.9244 - val_accuracy: 0.8696\n",
      "Epoch 127/200\n",
      "7/6 [================================] - 5s 727ms/step - loss: 0.0147 - accuracy: 0.9854 - val_loss: 0.9560 - val_accuracy: 0.8696\n",
      "Epoch 128/200\n",
      "7/6 [================================] - 5s 742ms/step - loss: 0.0194 - accuracy: 0.9854 - val_loss: 1.0291 - val_accuracy: 0.8696\n",
      "Epoch 129/200\n",
      "7/6 [================================] - 4s 586ms/step - loss: 0.0426 - accuracy: 0.9878 - val_loss: 0.9993 - val_accuracy: 0.8696\n",
      "Epoch 130/200\n",
      "7/6 [================================] - 5s 662ms/step - loss: 0.0090 - accuracy: 0.9951 - val_loss: 0.8923 - val_accuracy: 0.8261\n",
      "Epoch 131/200\n",
      "7/6 [================================] - 6s 828ms/step - loss: 0.0132 - accuracy: 0.9976 - val_loss: 0.9238 - val_accuracy: 0.8696\n",
      "Epoch 132/200\n",
      "7/6 [================================] - 5s 718ms/step - loss: 0.0135 - accuracy: 0.9951 - val_loss: 1.0002 - val_accuracy: 0.8696\n",
      "Epoch 133/200\n",
      "7/6 [================================] - 4s 599ms/step - loss: 0.0195 - accuracy: 0.9854 - val_loss: 1.0065 - val_accuracy: 0.8696\n",
      "Epoch 134/200\n",
      "7/6 [================================] - 5s 682ms/step - loss: 0.0263 - accuracy: 0.9902 - val_loss: 1.0242 - val_accuracy: 0.8696\n",
      "Epoch 135/200\n",
      "7/6 [================================] - 5s 658ms/step - loss: 0.0118 - accuracy: 0.9902 - val_loss: 0.9792 - val_accuracy: 0.8696\n",
      "Epoch 136/200\n",
      "7/6 [================================] - 5s 653ms/step - loss: 0.0226 - accuracy: 0.9854 - val_loss: 0.8573 - val_accuracy: 0.8913\n",
      "Epoch 137/200\n",
      "7/6 [================================] - 5s 728ms/step - loss: 0.0244 - accuracy: 0.9854 - val_loss: 0.8429 - val_accuracy: 0.8913\n",
      "Epoch 138/200\n",
      "7/6 [================================] - 5s 724ms/step - loss: 0.0095 - accuracy: 0.9951 - val_loss: 0.9759 - val_accuracy: 0.8478\n",
      "Epoch 139/200\n",
      "7/6 [================================] - 4s 614ms/step - loss: 0.0112 - accuracy: 1.0000 - val_loss: 0.9502 - val_accuracy: 0.8696\n",
      "Epoch 140/200\n",
      "7/6 [================================] - 5s 700ms/step - loss: 0.0385 - accuracy: 0.9854 - val_loss: 0.8475 - val_accuracy: 0.8696\n",
      "Epoch 141/200\n",
      "7/6 [================================] - 5s 706ms/step - loss: 0.0185 - accuracy: 0.9902 - val_loss: 0.8638 - val_accuracy: 0.8696\n",
      "Epoch 142/200\n",
      "7/6 [================================] - 4s 588ms/step - loss: 0.0157 - accuracy: 0.9927 - val_loss: 0.8782 - val_accuracy: 0.8696\n",
      "Epoch 143/200\n",
      "7/6 [================================] - 5s 677ms/step - loss: 0.0116 - accuracy: 0.9951 - val_loss: 0.9243 - val_accuracy: 0.8696\n",
      "Epoch 144/200\n",
      "7/6 [================================] - 4s 630ms/step - loss: 0.0223 - accuracy: 0.9902 - val_loss: 1.0257 - val_accuracy: 0.8696\n",
      "Epoch 145/200\n",
      "7/6 [================================] - 5s 700ms/step - loss: 0.0233 - accuracy: 0.9854 - val_loss: 0.9270 - val_accuracy: 0.8696\n",
      "Epoch 146/200\n",
      "7/6 [================================] - 4s 640ms/step - loss: 0.0196 - accuracy: 0.9951 - val_loss: 0.9334 - val_accuracy: 0.8913\n",
      "Epoch 147/200\n",
      "7/6 [================================] - 5s 778ms/step - loss: 0.0160 - accuracy: 0.9902 - val_loss: 0.9166 - val_accuracy: 0.8913\n",
      "Epoch 148/200\n",
      "7/6 [================================] - 5s 675ms/step - loss: 0.0224 - accuracy: 0.9854 - val_loss: 0.9202 - val_accuracy: 0.9130\n",
      "Epoch 149/200\n",
      "7/6 [================================] - 5s 675ms/step - loss: 0.0317 - accuracy: 0.9854 - val_loss: 1.0607 - val_accuracy: 0.8696\n",
      "Epoch 150/200\n",
      "7/6 [================================] - 5s 725ms/step - loss: 0.0244 - accuracy: 0.9902 - val_loss: 0.9465 - val_accuracy: 0.8696\n",
      "Epoch 151/200\n",
      "7/6 [================================] - 4s 624ms/step - loss: 0.0205 - accuracy: 0.9854 - val_loss: 0.7756 - val_accuracy: 0.9130\n",
      "Epoch 152/200\n",
      "7/6 [================================] - 5s 719ms/step - loss: 0.0245 - accuracy: 0.9902 - val_loss: 0.8705 - val_accuracy: 0.8696\n",
      "Epoch 153/200\n",
      "7/6 [================================] - 5s 686ms/step - loss: 0.0219 - accuracy: 0.9854 - val_loss: 0.9876 - val_accuracy: 0.8696\n",
      "Epoch 154/200\n",
      "7/6 [================================] - 5s 690ms/step - loss: 0.0102 - accuracy: 0.9951 - val_loss: 1.0340 - val_accuracy: 0.8696\n",
      "Epoch 155/200\n",
      "7/6 [================================] - 5s 653ms/step - loss: 0.0374 - accuracy: 0.9902 - val_loss: 1.1372 - val_accuracy: 0.8696\n",
      "Epoch 156/200\n",
      "7/6 [================================] - 5s 735ms/step - loss: 0.0213 - accuracy: 0.9902 - val_loss: 1.4970 - val_accuracy: 0.7826\n",
      "Epoch 157/200\n",
      "7/6 [================================] - 5s 653ms/step - loss: 0.0281 - accuracy: 0.9854 - val_loss: 0.8749 - val_accuracy: 0.8696\n",
      "Epoch 158/200\n",
      "7/6 [================================] - 5s 744ms/step - loss: 0.0630 - accuracy: 0.9756 - val_loss: 1.2388 - val_accuracy: 0.8261\n",
      "Epoch 159/200\n",
      "7/6 [================================] - 4s 629ms/step - loss: 0.0472 - accuracy: 0.9805 - val_loss: 0.7812 - val_accuracy: 0.8696\n",
      "Epoch 160/200\n",
      "7/6 [================================] - 5s 679ms/step - loss: 0.0148 - accuracy: 0.9951 - val_loss: 0.8424 - val_accuracy: 0.8696\n",
      "Epoch 161/200\n",
      "7/6 [================================] - 5s 663ms/step - loss: 0.0308 - accuracy: 0.9902 - val_loss: 0.8046 - val_accuracy: 0.8696\n",
      "Epoch 162/200\n",
      "7/6 [================================] - 5s 665ms/step - loss: 0.0191 - accuracy: 0.9854 - val_loss: 0.7440 - val_accuracy: 0.9130\n",
      "Epoch 163/200\n",
      "7/6 [================================] - 5s 698ms/step - loss: 0.0279 - accuracy: 0.9805 - val_loss: 1.1476 - val_accuracy: 0.8696\n",
      "Epoch 164/200\n",
      "7/6 [================================] - 4s 582ms/step - loss: 0.0452 - accuracy: 0.9829 - val_loss: 0.7242 - val_accuracy: 0.8696\n",
      "Epoch 165/200\n",
      "7/6 [================================] - 4s 580ms/step - loss: 0.0299 - accuracy: 0.9927 - val_loss: 1.1115 - val_accuracy: 0.8261\n",
      "Epoch 166/200\n",
      "7/6 [================================] - 4s 619ms/step - loss: 0.0412 - accuracy: 0.9854 - val_loss: 1.2977 - val_accuracy: 0.8261\n",
      "Epoch 167/200\n",
      "7/6 [================================] - 4s 598ms/step - loss: 0.0182 - accuracy: 0.9927 - val_loss: 1.2417 - val_accuracy: 0.8261\n",
      "Epoch 168/200\n",
      "7/6 [================================] - 4s 587ms/step - loss: 0.0802 - accuracy: 0.9585 - val_loss: 1.1823 - val_accuracy: 0.8261\n",
      "Epoch 169/200\n",
      "7/6 [================================] - 4s 564ms/step - loss: 0.0394 - accuracy: 0.9829 - val_loss: 0.8658 - val_accuracy: 0.9130\n",
      "Epoch 170/200\n",
      "7/6 [================================] - 4s 545ms/step - loss: 0.0781 - accuracy: 0.9780 - val_loss: 1.5005 - val_accuracy: 0.7826\n",
      "Epoch 171/200\n"
     ]
    },
    {
     "name": "stdout",
     "output_type": "stream",
     "text": [
      "7/6 [================================] - 4s 593ms/step - loss: 0.0381 - accuracy: 0.9878 - val_loss: 1.0235 - val_accuracy: 0.9130\n",
      "Epoch 172/200\n",
      "7/6 [================================] - 4s 576ms/step - loss: 0.0532 - accuracy: 0.9854 - val_loss: 1.2248 - val_accuracy: 0.8043\n",
      "Epoch 173/200\n",
      "7/6 [================================] - 4s 581ms/step - loss: 0.0468 - accuracy: 0.9805 - val_loss: 0.7868 - val_accuracy: 0.8696\n",
      "Epoch 174/200\n",
      "7/6 [================================] - 4s 563ms/step - loss: 0.0503 - accuracy: 0.9756 - val_loss: 1.2413 - val_accuracy: 0.7826\n",
      "Epoch 175/200\n",
      "7/6 [================================] - 4s 550ms/step - loss: 0.0368 - accuracy: 0.9854 - val_loss: 0.9884 - val_accuracy: 0.8261\n",
      "Epoch 176/200\n",
      "7/6 [================================] - 4s 576ms/step - loss: 0.0177 - accuracy: 0.9902 - val_loss: 0.9187 - val_accuracy: 0.8913\n",
      "Epoch 177/200\n",
      "7/6 [================================] - 4s 592ms/step - loss: 0.0183 - accuracy: 0.9878 - val_loss: 0.9380 - val_accuracy: 0.9130\n",
      "Epoch 178/200\n",
      "7/6 [================================] - 4s 574ms/step - loss: 0.0125 - accuracy: 0.9902 - val_loss: 1.0603 - val_accuracy: 0.8478\n",
      "Epoch 179/200\n",
      "7/6 [================================] - 4s 556ms/step - loss: 0.0183 - accuracy: 0.9902 - val_loss: 1.0429 - val_accuracy: 0.8913\n",
      "Epoch 180/200\n",
      "7/6 [================================] - 4s 565ms/step - loss: 0.0316 - accuracy: 0.9854 - val_loss: 0.9204 - val_accuracy: 0.9130\n",
      "Epoch 181/200\n",
      "7/6 [================================] - 4s 577ms/step - loss: 0.0405 - accuracy: 0.9854 - val_loss: 1.3232 - val_accuracy: 0.7826\n",
      "Epoch 182/200\n",
      "7/6 [================================] - 4s 577ms/step - loss: 0.0436 - accuracy: 0.9902 - val_loss: 0.7119 - val_accuracy: 0.9130\n",
      "Epoch 183/200\n",
      "7/6 [================================] - 4s 555ms/step - loss: 0.0216 - accuracy: 0.9951 - val_loss: 0.8034 - val_accuracy: 0.8913\n",
      "Epoch 184/200\n",
      "7/6 [================================] - 4s 538ms/step - loss: 0.0227 - accuracy: 0.9878 - val_loss: 1.0357 - val_accuracy: 0.8261\n",
      "Epoch 185/200\n",
      "7/6 [================================] - 4s 580ms/step - loss: 0.0182 - accuracy: 0.9902 - val_loss: 0.8167 - val_accuracy: 0.8696\n",
      "Epoch 186/200\n",
      "7/6 [================================] - 4s 593ms/step - loss: 0.0252 - accuracy: 0.9854 - val_loss: 0.8380 - val_accuracy: 0.9130\n",
      "Epoch 187/200\n",
      "7/6 [================================] - 4s 585ms/step - loss: 0.0120 - accuracy: 0.9951 - val_loss: 0.9499 - val_accuracy: 0.8696\n",
      "Epoch 188/200\n",
      "7/6 [================================] - 4s 525ms/step - loss: 0.0169 - accuracy: 0.9829 - val_loss: 1.2059 - val_accuracy: 0.8261\n",
      "Epoch 189/200\n",
      "7/6 [================================] - 4s 567ms/step - loss: 0.0150 - accuracy: 0.9902 - val_loss: 1.1152 - val_accuracy: 0.8478\n",
      "Epoch 190/200\n",
      "7/6 [================================] - 5s 677ms/step - loss: 0.0362 - accuracy: 0.9902 - val_loss: 1.0464 - val_accuracy: 0.8478\n",
      "Epoch 191/200\n",
      "7/6 [================================] - 4s 575ms/step - loss: 0.0209 - accuracy: 0.9951 - val_loss: 1.1490 - val_accuracy: 0.8043\n",
      "Epoch 192/200\n",
      "7/6 [================================] - 4s 564ms/step - loss: 0.0331 - accuracy: 0.9854 - val_loss: 1.1120 - val_accuracy: 0.7826\n",
      "Epoch 193/200\n",
      "7/6 [================================] - 4s 556ms/step - loss: 0.0283 - accuracy: 0.9854 - val_loss: 1.1045 - val_accuracy: 0.7826\n",
      "Epoch 194/200\n",
      "7/6 [================================] - 4s 587ms/step - loss: 0.0269 - accuracy: 0.9854 - val_loss: 1.1432 - val_accuracy: 0.9130\n",
      "Epoch 195/200\n",
      "7/6 [================================] - 4s 581ms/step - loss: 0.0265 - accuracy: 0.9902 - val_loss: 1.0008 - val_accuracy: 0.8261\n",
      "Epoch 196/200\n",
      "7/6 [================================] - 5s 648ms/step - loss: 0.0196 - accuracy: 0.9951 - val_loss: 0.9862 - val_accuracy: 0.8261\n",
      "Epoch 197/200\n",
      "7/6 [================================] - 5s 707ms/step - loss: 0.0209 - accuracy: 0.9902 - val_loss: 0.9158 - val_accuracy: 0.9130\n",
      "Epoch 198/200\n",
      "7/6 [================================] - 4s 588ms/step - loss: 0.0233 - accuracy: 0.9805 - val_loss: 0.8848 - val_accuracy: 0.9130\n",
      "Epoch 199/200\n",
      "7/6 [================================] - 5s 655ms/step - loss: 0.0133 - accuracy: 0.9951 - val_loss: 0.9031 - val_accuracy: 0.9130\n",
      "Epoch 200/200\n",
      "7/6 [================================] - 4s 623ms/step - loss: 0.0282 - accuracy: 0.9902 - val_loss: 0.9208 - val_accuracy: 0.9130\n",
      "Done training\n"
     ]
    }
   ],
   "source": [
    "model.compile(\n",
    "    optimizer='adam',\n",
    "    loss='binary_crossentropy',\n",
    "    metrics=['accuracy']\n",
    ")\n",
    "\n",
    "snapshot_callback = tensorflow.keras.callbacks.ModelCheckpoint(\n",
    "    filepath=\"./.snapshots\"\n",
    ")\n",
    "\n",
    "EPOCHS = 200\n",
    "STEPS = TRAIN_DATA_COUNT / BATCH_SIZE\n",
    "VALIDATION_STEPS = TEST_DATA_COUNT / BATCH_SIZE\n",
    "\n",
    "history = model.fit_generator(\n",
    "    steps_per_epoch=STEPS,\n",
    "    epochs=EPOCHS,\n",
    "    generator=train_image_generator,\n",
    "    #callbacks=[snapshot_callback],\n",
    "    validation_data=test_image_generator,\n",
    "    validation_steps=VALIDATION_STEPS\n",
    ")\n",
    "print('Done training')"
   ]
  },
  {
   "cell_type": "markdown",
   "metadata": {},
   "source": [
    "## Evaluate score"
   ]
  },
  {
   "cell_type": "code",
   "execution_count": 8,
   "metadata": {},
   "outputs": [
    {
     "name": "stdout",
     "output_type": "stream",
     "text": [
      "[0 0 0 0 0 0 0 0 0 0 1 1 1 1 1 1 1 1 1 1 1 1 1]\n",
      "Final Score: 0.9130434782608695\n"
     ]
    }
   ],
   "source": [
    "import numpy\n",
    "from sklearn import metrics\n",
    "\n",
    "prediction = model.predict(test_image_generator)\n",
    "prediction = numpy.argmax(prediction, axis=1)\n",
    "images, actual = next(test_image_generator)\n",
    "actual = numpy.argmax(actual, axis=1)\n",
    "print(actual)\n",
    "score = metrics.accuracy_score(actual, prediction)\n",
    "print(f'Final Score: {score}')"
   ]
  },
  {
   "cell_type": "markdown",
   "metadata": {},
   "source": [
    "## Monitor training"
   ]
  },
  {
   "cell_type": "code",
   "execution_count": 9,
   "metadata": {
    "scrolled": true
   },
   "outputs": [
    {
     "data": {
      "image/png": "[encoded data removed]",
      "text/plain": [
       "<Figure size 432x288 with 2 Axes>"
      ]
     },
     "metadata": {
      "needs_background": "light"
     },
     "output_type": "display_data"
    }
   ],
   "source": [
    "import matplotlib.pyplot as plot\n",
    "\n",
    "LOSS = history.history['loss']\n",
    "LOSS_VALIDATION = history.history['val_loss']\n",
    "\n",
    "ACCURACY = history.history['accuracy']\n",
    "ACCURACY_VALIDATION = history.history['val_accuracy']\n",
    "\n",
    "EPOCHS_RANGE = range(EPOCHS)\n",
    "\n",
    "plot.figure()\n",
    "plot.subplot(1, 2, 1)\n",
    "plot.plot(EPOCHS_RANGE, LOSS, label='Training')\n",
    "plot.plot(EPOCHS_RANGE, LOSS_VALIDATION, label='Test')\n",
    "plot.legend()\n",
    "plot.title('Loss')\n",
    "\n",
    "plot.subplot(1, 2, 2)\n",
    "plot.plot(EPOCHS_RANGE, ACCURACY, label='Training')\n",
    "plot.plot(EPOCHS_RANGE, ACCURACY_VALIDATION, label='Test')\n",
    "plot.legend()\n",
    "plot.title('Accuracy')\n",
    "\n",
    "plot.show()"
   ]
  },
  {
   "cell_type": "markdown",
   "metadata": {},
   "source": [
    "## Confusion matrix"
   ]
  },
  {
   "cell_type": "markdown",
   "metadata": {},
   "source": [
    "Because the dataset is not balanced (i.e. there are more water than grass sprites), the values in the confusion matrix need to be normalized. Otherwise, the calculation will be biased towards the water sprites."
   ]
  },
  {
   "cell_type": "code",
   "execution_count": 10,
   "metadata": {},
   "outputs": [
    {
     "data": {
      "text/plain": [
       "Text(0.5, 0, 'Predicted')"
      ]
     },
     "execution_count": 10,
     "metadata": {},
     "output_type": "execute_result"
    },
    {
     "data": {
      "image/png": "[encoded data removed]",
      "text/plain": [
       "<Figure size 432x288 with 2 Axes>"
      ]
     },
     "metadata": {
      "needs_background": "light"
     },
     "output_type": "display_data"
    }
   ],
   "source": [
    "import matplotlib.pyplot as plot\n",
    "from sklearn import metrics\n",
    "import numpy\n",
    "\n",
    "class_names = ['grass', 'water']\n",
    "confusion_matrix = metrics.confusion_matrix(actual, prediction)\n",
    "normalized_confusion_matrix = confusion_matrix / confusion_matrix.sum(axis=1)[:, numpy.newaxis]\n",
    "plot.imshow(normalized_confusion_matrix)\n",
    "plot.title('Confusion matrix')\n",
    "plot.colorbar()\n",
    "tick_marks = [0, 1]\n",
    "plot.xticks(tick_marks, class_names, rotation=45)\n",
    "plot.yticks(tick_marks, class_names)\n",
    "plot.ylabel('Actual')\n",
    "plot.xlabel('Predicted')"
   ]
  },
  {
   "cell_type": "markdown",
   "metadata": {},
   "source": [
    "## Plot ROC"
   ]
  },
  {
   "cell_type": "code",
   "execution_count": 11,
   "metadata": {},
   "outputs": [
    {
     "data": {
      "text/plain": [
       "Text(0, 0.5, 'True positive')"
      ]
     },
     "execution_count": 11,
     "metadata": {},
     "output_type": "execute_result"
    },
    {
     "data": {
      "image/png": "[encoded data removed]",
      "text/plain": [
       "<Figure size 432x288 with 1 Axes>"
      ]
     },
     "metadata": {
      "needs_background": "light"
     },
     "output_type": "display_data"
    }
   ],
   "source": [
    "import matplotlib.pyplot as plot\n",
    "import sklearn.metrics\n",
    "\n",
    "predictions = model.predict(test_image_generator)\n",
    "positive_predictions = predictions[:, 1]\n",
    "\n",
    "fpr, tpr, _ = metrics.roc_curve(actual, positive_predictions)\n",
    "roc_auc = metrics.auc(fpr, tpr)\n",
    "\n",
    "plot.title(f'ROC (area = {roc_auc})')\n",
    "plot.plot(fpr, tpr)\n",
    "plot.plot([0, 1], [0, 1], ':k')\n",
    "plot.xlabel('False positive')\n",
    "plot.ylabel('True positive')"
   ]
  },
  {
   "cell_type": "markdown",
   "metadata": {},
   "source": [
    "## Save model"
   ]
  },
  {
   "cell_type": "code",
   "execution_count": 12,
   "metadata": {},
   "outputs": [],
   "source": [
    "model.save('pokemon_type_model.h5')"
   ]
  }
 ],
 "metadata": {
  "kernelspec": {
   "display_name": "Python 3",
   "language": "python",
   "name": "python3"
  },
  "language_info": {
   "codemirror_mode": {
    "name": "ipython",
    "version": 3
   },
   "file_extension": ".py",
   "mimetype": "text/x-python",
   "name": "python",
   "nbconvert_exporter": "python",
   "pygments_lexer": "ipython3",
   "version": "3.7.3"
  }
 },
 "nbformat": 4,
 "nbformat_minor": 2
}
