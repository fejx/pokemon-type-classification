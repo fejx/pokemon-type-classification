{
 "cells": [
  {
   "cell_type": "markdown",
   "metadata": {},
   "source": [
    "#  Download Pokemon sprites"
   ]
  },
  {
   "cell_type": "markdown",
   "metadata": {},
   "source": [
    "## Functions for accessing PokéAPI"
   ]
  },
  {
   "cell_type": "code",
   "execution_count": 1,
   "metadata": {},
   "outputs": [],
   "source": [
    "import requests\n",
    "import json\n",
    "\n",
    "def get_pokeapi(path):\n",
    "    request = requests.get(f'https://pokeapi.co/api/v2/{path}')\n",
    "    response = json.loads(request.text)\n",
    "    return response\n",
    "\n",
    "def get_pokemon(id_or_name):\n",
    "    return get_pokeapi(f'pokemon/{id_or_name}')"
   ]
  },
  {
   "cell_type": "markdown",
   "metadata": {},
   "source": [
    "## Functions for extracting information from API responses"
   ]
  },
  {
   "cell_type": "code",
   "execution_count": 2,
   "metadata": {},
   "outputs": [],
   "source": [
    "import jsonpath_ng\n",
    "\n",
    "def find_values_in(object, path):\n",
    "    match = path.find(object)\n",
    "    values = list(map(lambda o: o.value, match))\n",
    "    return values\n",
    "\n",
    "TYPE_PATH = jsonpath_ng.parse('$.types[*].type.name')\n",
    "\n",
    "def get_types_of(pokemon):\n",
    "    return find_values_in(pokemon, TYPE_PATH)\n",
    "\n",
    "ID_PATH = jsonpath_ng.parse('$.id')\n",
    "\n",
    "def get_id_of(pokemon):\n",
    "    return find_values_in(pokemon, ID_PATH)[0]"
   ]
  },
  {
   "cell_type": "markdown",
   "metadata": {},
   "source": [
    "## Functions for downloading and storing sprites"
   ]
  },
  {
   "cell_type": "code",
   "execution_count": 3,
   "metadata": {},
   "outputs": [],
   "source": [
    "import requests\n",
    "import os\n",
    "\n",
    "def create_directories_if_necessary(file):\n",
    "    if not os.path.exists(os.path.dirname(file)):\n",
    "        os.makedirs(os.path.dirname(file))\n",
    "\n",
    "def download_file_to(url, location):\n",
    "    if os.path.exists(location):\n",
    "        return\n",
    "    request = requests.get(url)\n",
    "    create_directories_if_necessary(location)\n",
    "    with open(location, 'wb') as file:\n",
    "        file.write(request.content)\n",
    "\n",
    "def download_sprite_for(pokemon, sub_directory):\n",
    "    id = get_id_of(pokemon)\n",
    "    url = f'https://raw.githubusercontent.com/PokeAPI/sprites/master/sprites/pokemon/{id}.png'\n",
    "    location = f'sprites/{sub_directory}/{id}.png'\n",
    "    download_file_to(url, location)"
   ]
  },
  {
   "cell_type": "markdown",
   "metadata": {},
   "source": [
    "## Functions for progress report\n",
    "(*stolen from [here](https://www.mikulskibartosz.name/how-to-display-a-progress-bar-in-jupyter-notebook/)*)"
   ]
  },
  {
   "cell_type": "code",
   "execution_count": 4,
   "metadata": {},
   "outputs": [],
   "source": [
    "import sys\n",
    "from IPython.display import clear_output\n",
    "\n",
    "def clamp(n, minimum, maximum):\n",
    "    return max(minimum, min(n, maximum))\n",
    "\n",
    "def update_progress(progress):\n",
    "    bar_length = 20\n",
    "    progress = clamp(progress, 0, 1)\n",
    "    block = int(round(bar_length * progress))\n",
    "    clear_output(wait = True)\n",
    "    text = \"Progress: [{0}] {1:.1f}%\".format( \"#\" * block + \"-\" * (bar_length - block), progress * 100)\n",
    "    print(text)"
   ]
  },
  {
   "cell_type": "markdown",
   "metadata": {},
   "source": [
    "## Download sprites"
   ]
  },
  {
   "cell_type": "code",
   "execution_count": 5,
   "metadata": {},
   "outputs": [
    {
     "name": "stdout",
     "output_type": "stream",
     "text": [
      "Progress: [####################] 100.0%\n",
      "done!\n"
     ]
    }
   ],
   "source": [
    "NUMBER_OF_POKEMON = 807\n",
    "\n",
    "GRASS_TYPE = 'grass'\n",
    "FIRE_TYPE = 'fire'\n",
    "WATER_TYPE = 'water'\n",
    "\n",
    "id = 1\n",
    "update_progress(0)\n",
    "while id <= NUMBER_OF_POKEMON:\n",
    "    pokemon = get_pokemon(id)\n",
    "    types = get_types_of(pokemon)\n",
    "    if GRASS_TYPE in types:\n",
    "        download_sprite_for(pokemon, GRASS_TYPE)\n",
    "    if FIRE_TYPE in types:\n",
    "        download_sprite_for(pokemon, FIRE_TYPE)\n",
    "    if WATER_TYPE in types:\n",
    "        download_sprite_for(pokemon, WATER_TYPE)\n",
    "    id += 1\n",
    "    update_progress(id / NUMBER_OF_POKEMON)\n",
    "\n",
    "print('done!')"
   ]
  }
 ],
 "metadata": {
  "kernelspec": {
   "display_name": "Python 3",
   "language": "python",
   "name": "python3"
  },
  "language_info": {
   "codemirror_mode": {
    "name": "ipython",
    "version": 3
   },
   "file_extension": ".py",
   "mimetype": "text/x-python",
   "name": "python",
   "nbconvert_exporter": "python",
   "pygments_lexer": "ipython3",
   "version": "3.7.3"
  }
 },
 "nbformat": 4,
 "nbformat_minor": 2
}
